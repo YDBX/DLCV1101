{
  "nbformat": 4,
  "nbformat_minor": 0,
  "metadata": {
    "colab": {
      "name": "hw4_2",
      "provenance": [],
      "collapsed_sections": []
    },
    "kernelspec": {
      "name": "python3",
      "display_name": "Python 3"
    },
    "language_info": {
      "name": "python"
    },
    "accelerator": "GPU",
    "widgets": {
      "application/vnd.jupyter.widget-state+json": {
        "c01e63e0c100428380f921c038d684ae": {
          "model_module": "@jupyter-widgets/controls",
          "model_name": "HBoxModel",
          "model_module_version": "1.5.0",
          "state": {
            "_view_name": "HBoxView",
            "_dom_classes": [],
            "_model_name": "HBoxModel",
            "_view_module": "@jupyter-widgets/controls",
            "_model_module_version": "1.5.0",
            "_view_count": null,
            "_view_module_version": "1.5.0",
            "box_style": "",
            "layout": "IPY_MODEL_3e7dab2677824fd8a22f51533171b221",
            "_model_module": "@jupyter-widgets/controls",
            "children": [
              "IPY_MODEL_e2454f981c244452ac222ec8a55a07dc",
              "IPY_MODEL_cd2659b4a4aa4fd8b57f4d4bcc3ad904",
              "IPY_MODEL_ac4197b780774ce29afb0dca65abe378"
            ]
          }
        },
        "3e7dab2677824fd8a22f51533171b221": {
          "model_module": "@jupyter-widgets/base",
          "model_name": "LayoutModel",
          "model_module_version": "1.2.0",
          "state": {
            "_view_name": "LayoutView",
            "grid_template_rows": null,
            "right": null,
            "justify_content": null,
            "_view_module": "@jupyter-widgets/base",
            "overflow": null,
            "_model_module_version": "1.2.0",
            "_view_count": null,
            "flex_flow": null,
            "width": null,
            "min_width": null,
            "border": null,
            "align_items": null,
            "bottom": null,
            "_model_module": "@jupyter-widgets/base",
            "top": null,
            "grid_column": null,
            "overflow_y": null,
            "overflow_x": null,
            "grid_auto_flow": null,
            "grid_area": null,
            "grid_template_columns": null,
            "flex": null,
            "_model_name": "LayoutModel",
            "justify_items": null,
            "grid_row": null,
            "max_height": null,
            "align_content": null,
            "visibility": null,
            "align_self": null,
            "height": null,
            "min_height": null,
            "padding": null,
            "grid_auto_rows": null,
            "grid_gap": null,
            "max_width": null,
            "order": null,
            "_view_module_version": "1.2.0",
            "grid_template_areas": null,
            "object_position": null,
            "object_fit": null,
            "grid_auto_columns": null,
            "margin": null,
            "display": null,
            "left": null
          }
        },
        "e2454f981c244452ac222ec8a55a07dc": {
          "model_module": "@jupyter-widgets/controls",
          "model_name": "HTMLModel",
          "model_module_version": "1.5.0",
          "state": {
            "_view_name": "HTMLView",
            "style": "IPY_MODEL_b7519fb1b8ca4f33b1356000527382d3",
            "_dom_classes": [],
            "description": "",
            "_model_name": "HTMLModel",
            "placeholder": "​",
            "_view_module": "@jupyter-widgets/controls",
            "_model_module_version": "1.5.0",
            "value": "  0%",
            "_view_count": null,
            "_view_module_version": "1.5.0",
            "description_tooltip": null,
            "_model_module": "@jupyter-widgets/controls",
            "layout": "IPY_MODEL_42c5121cb1884c7ea5ee2bde1502ca7e"
          }
        },
        "cd2659b4a4aa4fd8b57f4d4bcc3ad904": {
          "model_module": "@jupyter-widgets/controls",
          "model_name": "FloatProgressModel",
          "model_module_version": "1.5.0",
          "state": {
            "_view_name": "ProgressView",
            "style": "IPY_MODEL_20f759759bce4169a5614aa4428bfead",
            "_dom_classes": [],
            "description": "",
            "_model_name": "FloatProgressModel",
            "bar_style": "danger",
            "max": 1200,
            "_view_module": "@jupyter-widgets/controls",
            "_model_module_version": "1.5.0",
            "value": 0,
            "_view_count": null,
            "_view_module_version": "1.5.0",
            "orientation": "horizontal",
            "min": 0,
            "description_tooltip": null,
            "_model_module": "@jupyter-widgets/controls",
            "layout": "IPY_MODEL_40e9831e0f804789953174796678aa04"
          }
        },
        "ac4197b780774ce29afb0dca65abe378": {
          "model_module": "@jupyter-widgets/controls",
          "model_name": "HTMLModel",
          "model_module_version": "1.5.0",
          "state": {
            "_view_name": "HTMLView",
            "style": "IPY_MODEL_d086965b46864c3db38ec52d0ac3ab6c",
            "_dom_classes": [],
            "description": "",
            "_model_name": "HTMLModel",
            "placeholder": "​",
            "_view_module": "@jupyter-widgets/controls",
            "_model_module_version": "1.5.0",
            "value": " 0/1200 [00:10&lt;?, ?it/s]",
            "_view_count": null,
            "_view_module_version": "1.5.0",
            "description_tooltip": null,
            "_model_module": "@jupyter-widgets/controls",
            "layout": "IPY_MODEL_8df7b223055f40a9a38a7cc93f6b9b25"
          }
        },
        "b7519fb1b8ca4f33b1356000527382d3": {
          "model_module": "@jupyter-widgets/controls",
          "model_name": "DescriptionStyleModel",
          "model_module_version": "1.5.0",
          "state": {
            "_view_name": "StyleView",
            "_model_name": "DescriptionStyleModel",
            "description_width": "",
            "_view_module": "@jupyter-widgets/base",
            "_model_module_version": "1.5.0",
            "_view_count": null,
            "_view_module_version": "1.2.0",
            "_model_module": "@jupyter-widgets/controls"
          }
        },
        "42c5121cb1884c7ea5ee2bde1502ca7e": {
          "model_module": "@jupyter-widgets/base",
          "model_name": "LayoutModel",
          "model_module_version": "1.2.0",
          "state": {
            "_view_name": "LayoutView",
            "grid_template_rows": null,
            "right": null,
            "justify_content": null,
            "_view_module": "@jupyter-widgets/base",
            "overflow": null,
            "_model_module_version": "1.2.0",
            "_view_count": null,
            "flex_flow": null,
            "width": null,
            "min_width": null,
            "border": null,
            "align_items": null,
            "bottom": null,
            "_model_module": "@jupyter-widgets/base",
            "top": null,
            "grid_column": null,
            "overflow_y": null,
            "overflow_x": null,
            "grid_auto_flow": null,
            "grid_area": null,
            "grid_template_columns": null,
            "flex": null,
            "_model_name": "LayoutModel",
            "justify_items": null,
            "grid_row": null,
            "max_height": null,
            "align_content": null,
            "visibility": null,
            "align_self": null,
            "height": null,
            "min_height": null,
            "padding": null,
            "grid_auto_rows": null,
            "grid_gap": null,
            "max_width": null,
            "order": null,
            "_view_module_version": "1.2.0",
            "grid_template_areas": null,
            "object_position": null,
            "object_fit": null,
            "grid_auto_columns": null,
            "margin": null,
            "display": null,
            "left": null
          }
        },
        "20f759759bce4169a5614aa4428bfead": {
          "model_module": "@jupyter-widgets/controls",
          "model_name": "ProgressStyleModel",
          "model_module_version": "1.5.0",
          "state": {
            "_view_name": "StyleView",
            "_model_name": "ProgressStyleModel",
            "description_width": "",
            "_view_module": "@jupyter-widgets/base",
            "_model_module_version": "1.5.0",
            "_view_count": null,
            "_view_module_version": "1.2.0",
            "bar_color": null,
            "_model_module": "@jupyter-widgets/controls"
          }
        },
        "40e9831e0f804789953174796678aa04": {
          "model_module": "@jupyter-widgets/base",
          "model_name": "LayoutModel",
          "model_module_version": "1.2.0",
          "state": {
            "_view_name": "LayoutView",
            "grid_template_rows": null,
            "right": null,
            "justify_content": null,
            "_view_module": "@jupyter-widgets/base",
            "overflow": null,
            "_model_module_version": "1.2.0",
            "_view_count": null,
            "flex_flow": null,
            "width": null,
            "min_width": null,
            "border": null,
            "align_items": null,
            "bottom": null,
            "_model_module": "@jupyter-widgets/base",
            "top": null,
            "grid_column": null,
            "overflow_y": null,
            "overflow_x": null,
            "grid_auto_flow": null,
            "grid_area": null,
            "grid_template_columns": null,
            "flex": null,
            "_model_name": "LayoutModel",
            "justify_items": null,
            "grid_row": null,
            "max_height": null,
            "align_content": null,
            "visibility": null,
            "align_self": null,
            "height": null,
            "min_height": null,
            "padding": null,
            "grid_auto_rows": null,
            "grid_gap": null,
            "max_width": null,
            "order": null,
            "_view_module_version": "1.2.0",
            "grid_template_areas": null,
            "object_position": null,
            "object_fit": null,
            "grid_auto_columns": null,
            "margin": null,
            "display": null,
            "left": null
          }
        },
        "d086965b46864c3db38ec52d0ac3ab6c": {
          "model_module": "@jupyter-widgets/controls",
          "model_name": "DescriptionStyleModel",
          "model_module_version": "1.5.0",
          "state": {
            "_view_name": "StyleView",
            "_model_name": "DescriptionStyleModel",
            "description_width": "",
            "_view_module": "@jupyter-widgets/base",
            "_model_module_version": "1.5.0",
            "_view_count": null,
            "_view_module_version": "1.2.0",
            "_model_module": "@jupyter-widgets/controls"
          }
        },
        "8df7b223055f40a9a38a7cc93f6b9b25": {
          "model_module": "@jupyter-widgets/base",
          "model_name": "LayoutModel",
          "model_module_version": "1.2.0",
          "state": {
            "_view_name": "LayoutView",
            "grid_template_rows": null,
            "right": null,
            "justify_content": null,
            "_view_module": "@jupyter-widgets/base",
            "overflow": null,
            "_model_module_version": "1.2.0",
            "_view_count": null,
            "flex_flow": null,
            "width": null,
            "min_width": null,
            "border": null,
            "align_items": null,
            "bottom": null,
            "_model_module": "@jupyter-widgets/base",
            "top": null,
            "grid_column": null,
            "overflow_y": null,
            "overflow_x": null,
            "grid_auto_flow": null,
            "grid_area": null,
            "grid_template_columns": null,
            "flex": null,
            "_model_name": "LayoutModel",
            "justify_items": null,
            "grid_row": null,
            "max_height": null,
            "align_content": null,
            "visibility": null,
            "align_self": null,
            "height": null,
            "min_height": null,
            "padding": null,
            "grid_auto_rows": null,
            "grid_gap": null,
            "max_width": null,
            "order": null,
            "_view_module_version": "1.2.0",
            "grid_template_areas": null,
            "object_position": null,
            "object_fit": null,
            "grid_auto_columns": null,
            "margin": null,
            "display": null,
            "left": null
          }
        },
        "d52bb6a41aba47888209722d565dc5ae": {
          "model_module": "@jupyter-widgets/controls",
          "model_name": "HBoxModel",
          "model_module_version": "1.5.0",
          "state": {
            "_view_name": "HBoxView",
            "_dom_classes": [],
            "_model_name": "HBoxModel",
            "_view_module": "@jupyter-widgets/controls",
            "_model_module_version": "1.5.0",
            "_view_count": null,
            "_view_module_version": "1.5.0",
            "box_style": "",
            "layout": "IPY_MODEL_3190ff1227584f4180fbefddde2f928e",
            "_model_module": "@jupyter-widgets/controls",
            "children": [
              "IPY_MODEL_e791f0b3c29f46dc8b7df6447d3a89ae",
              "IPY_MODEL_cacb8459f1aa433b9b28eb5157c3af9b",
              "IPY_MODEL_ab14f89a6e1c4876bb74dcbf7dd3d20a"
            ]
          }
        },
        "3190ff1227584f4180fbefddde2f928e": {
          "model_module": "@jupyter-widgets/base",
          "model_name": "LayoutModel",
          "model_module_version": "1.2.0",
          "state": {
            "_view_name": "LayoutView",
            "grid_template_rows": null,
            "right": null,
            "justify_content": null,
            "_view_module": "@jupyter-widgets/base",
            "overflow": null,
            "_model_module_version": "1.2.0",
            "_view_count": null,
            "flex_flow": null,
            "width": null,
            "min_width": null,
            "border": null,
            "align_items": null,
            "bottom": null,
            "_model_module": "@jupyter-widgets/base",
            "top": null,
            "grid_column": null,
            "overflow_y": null,
            "overflow_x": null,
            "grid_auto_flow": null,
            "grid_area": null,
            "grid_template_columns": null,
            "flex": null,
            "_model_name": "LayoutModel",
            "justify_items": null,
            "grid_row": null,
            "max_height": null,
            "align_content": null,
            "visibility": null,
            "align_self": null,
            "height": null,
            "min_height": null,
            "padding": null,
            "grid_auto_rows": null,
            "grid_gap": null,
            "max_width": null,
            "order": null,
            "_view_module_version": "1.2.0",
            "grid_template_areas": null,
            "object_position": null,
            "object_fit": null,
            "grid_auto_columns": null,
            "margin": null,
            "display": null,
            "left": null
          }
        },
        "e791f0b3c29f46dc8b7df6447d3a89ae": {
          "model_module": "@jupyter-widgets/controls",
          "model_name": "HTMLModel",
          "model_module_version": "1.5.0",
          "state": {
            "_view_name": "HTMLView",
            "style": "IPY_MODEL_ef2ceb1205324c88b46ff6dd4a622bbc",
            "_dom_classes": [],
            "description": "",
            "_model_name": "HTMLModel",
            "placeholder": "​",
            "_view_module": "@jupyter-widgets/controls",
            "_model_module_version": "1.5.0",
            "value": "100%",
            "_view_count": null,
            "_view_module_version": "1.5.0",
            "description_tooltip": null,
            "_model_module": "@jupyter-widgets/controls",
            "layout": "IPY_MODEL_0b1b16bf2d7f492b8e4623c73a2f073e"
          }
        },
        "cacb8459f1aa433b9b28eb5157c3af9b": {
          "model_module": "@jupyter-widgets/controls",
          "model_name": "FloatProgressModel",
          "model_module_version": "1.5.0",
          "state": {
            "_view_name": "ProgressView",
            "style": "IPY_MODEL_b691bb0e15a249e4a3daa4da92decfe8",
            "_dom_classes": [],
            "description": "",
            "_model_name": "FloatProgressModel",
            "bar_style": "success",
            "max": 13,
            "_view_module": "@jupyter-widgets/controls",
            "_model_module_version": "1.5.0",
            "value": 13,
            "_view_count": null,
            "_view_module_version": "1.5.0",
            "orientation": "horizontal",
            "min": 0,
            "description_tooltip": null,
            "_model_module": "@jupyter-widgets/controls",
            "layout": "IPY_MODEL_edf78efdbfe549f4bab08212906630a2"
          }
        },
        "ab14f89a6e1c4876bb74dcbf7dd3d20a": {
          "model_module": "@jupyter-widgets/controls",
          "model_name": "HTMLModel",
          "model_module_version": "1.5.0",
          "state": {
            "_view_name": "HTMLView",
            "style": "IPY_MODEL_badf22c2e99d49cfa10c459a8aa2ccbf",
            "_dom_classes": [],
            "description": "",
            "_model_name": "HTMLModel",
            "placeholder": "​",
            "_view_module": "@jupyter-widgets/controls",
            "_model_module_version": "1.5.0",
            "value": " 13/13 [00:18&lt;00:00,  1.54s/it]",
            "_view_count": null,
            "_view_module_version": "1.5.0",
            "description_tooltip": null,
            "_model_module": "@jupyter-widgets/controls",
            "layout": "IPY_MODEL_16a8dd8510a24658abfc16f8b8d1c2c6"
          }
        },
        "ef2ceb1205324c88b46ff6dd4a622bbc": {
          "model_module": "@jupyter-widgets/controls",
          "model_name": "DescriptionStyleModel",
          "model_module_version": "1.5.0",
          "state": {
            "_view_name": "StyleView",
            "_model_name": "DescriptionStyleModel",
            "description_width": "",
            "_view_module": "@jupyter-widgets/base",
            "_model_module_version": "1.5.0",
            "_view_count": null,
            "_view_module_version": "1.2.0",
            "_model_module": "@jupyter-widgets/controls"
          }
        },
        "0b1b16bf2d7f492b8e4623c73a2f073e": {
          "model_module": "@jupyter-widgets/base",
          "model_name": "LayoutModel",
          "model_module_version": "1.2.0",
          "state": {
            "_view_name": "LayoutView",
            "grid_template_rows": null,
            "right": null,
            "justify_content": null,
            "_view_module": "@jupyter-widgets/base",
            "overflow": null,
            "_model_module_version": "1.2.0",
            "_view_count": null,
            "flex_flow": null,
            "width": null,
            "min_width": null,
            "border": null,
            "align_items": null,
            "bottom": null,
            "_model_module": "@jupyter-widgets/base",
            "top": null,
            "grid_column": null,
            "overflow_y": null,
            "overflow_x": null,
            "grid_auto_flow": null,
            "grid_area": null,
            "grid_template_columns": null,
            "flex": null,
            "_model_name": "LayoutModel",
            "justify_items": null,
            "grid_row": null,
            "max_height": null,
            "align_content": null,
            "visibility": null,
            "align_self": null,
            "height": null,
            "min_height": null,
            "padding": null,
            "grid_auto_rows": null,
            "grid_gap": null,
            "max_width": null,
            "order": null,
            "_view_module_version": "1.2.0",
            "grid_template_areas": null,
            "object_position": null,
            "object_fit": null,
            "grid_auto_columns": null,
            "margin": null,
            "display": null,
            "left": null
          }
        },
        "b691bb0e15a249e4a3daa4da92decfe8": {
          "model_module": "@jupyter-widgets/controls",
          "model_name": "ProgressStyleModel",
          "model_module_version": "1.5.0",
          "state": {
            "_view_name": "StyleView",
            "_model_name": "ProgressStyleModel",
            "description_width": "",
            "_view_module": "@jupyter-widgets/base",
            "_model_module_version": "1.5.0",
            "_view_count": null,
            "_view_module_version": "1.2.0",
            "bar_color": null,
            "_model_module": "@jupyter-widgets/controls"
          }
        },
        "edf78efdbfe549f4bab08212906630a2": {
          "model_module": "@jupyter-widgets/base",
          "model_name": "LayoutModel",
          "model_module_version": "1.2.0",
          "state": {
            "_view_name": "LayoutView",
            "grid_template_rows": null,
            "right": null,
            "justify_content": null,
            "_view_module": "@jupyter-widgets/base",
            "overflow": null,
            "_model_module_version": "1.2.0",
            "_view_count": null,
            "flex_flow": null,
            "width": null,
            "min_width": null,
            "border": null,
            "align_items": null,
            "bottom": null,
            "_model_module": "@jupyter-widgets/base",
            "top": null,
            "grid_column": null,
            "overflow_y": null,
            "overflow_x": null,
            "grid_auto_flow": null,
            "grid_area": null,
            "grid_template_columns": null,
            "flex": null,
            "_model_name": "LayoutModel",
            "justify_items": null,
            "grid_row": null,
            "max_height": null,
            "align_content": null,
            "visibility": null,
            "align_self": null,
            "height": null,
            "min_height": null,
            "padding": null,
            "grid_auto_rows": null,
            "grid_gap": null,
            "max_width": null,
            "order": null,
            "_view_module_version": "1.2.0",
            "grid_template_areas": null,
            "object_position": null,
            "object_fit": null,
            "grid_auto_columns": null,
            "margin": null,
            "display": null,
            "left": null
          }
        },
        "badf22c2e99d49cfa10c459a8aa2ccbf": {
          "model_module": "@jupyter-widgets/controls",
          "model_name": "DescriptionStyleModel",
          "model_module_version": "1.5.0",
          "state": {
            "_view_name": "StyleView",
            "_model_name": "DescriptionStyleModel",
            "description_width": "",
            "_view_module": "@jupyter-widgets/base",
            "_model_module_version": "1.5.0",
            "_view_count": null,
            "_view_module_version": "1.2.0",
            "_model_module": "@jupyter-widgets/controls"
          }
        },
        "16a8dd8510a24658abfc16f8b8d1c2c6": {
          "model_module": "@jupyter-widgets/base",
          "model_name": "LayoutModel",
          "model_module_version": "1.2.0",
          "state": {
            "_view_name": "LayoutView",
            "grid_template_rows": null,
            "right": null,
            "justify_content": null,
            "_view_module": "@jupyter-widgets/base",
            "overflow": null,
            "_model_module_version": "1.2.0",
            "_view_count": null,
            "flex_flow": null,
            "width": null,
            "min_width": null,
            "border": null,
            "align_items": null,
            "bottom": null,
            "_model_module": "@jupyter-widgets/base",
            "top": null,
            "grid_column": null,
            "overflow_y": null,
            "overflow_x": null,
            "grid_auto_flow": null,
            "grid_area": null,
            "grid_template_columns": null,
            "flex": null,
            "_model_name": "LayoutModel",
            "justify_items": null,
            "grid_row": null,
            "max_height": null,
            "align_content": null,
            "visibility": null,
            "align_self": null,
            "height": null,
            "min_height": null,
            "padding": null,
            "grid_auto_rows": null,
            "grid_gap": null,
            "max_width": null,
            "order": null,
            "_view_module_version": "1.2.0",
            "grid_template_areas": null,
            "object_position": null,
            "object_fit": null,
            "grid_auto_columns": null,
            "margin": null,
            "display": null,
            "left": null
          }
        }
      }
    }
  },
  "cells": [
    {
      "cell_type": "markdown",
      "source": [
        "# Download Data"
      ],
      "metadata": {
        "id": "gBvgHQWS3Elx"
      }
    },
    {
      "cell_type": "code",
      "execution_count": null,
      "metadata": {
        "colab": {
          "base_uri": "https://localhost:8080/"
        },
        "id": "KNpRrSrpyUcc",
        "outputId": "b641f228-1fe1-42c7-a37a-131d268ffe76"
      },
      "outputs": [
        {
          "output_type": "stream",
          "name": "stdout",
          "text": [
            "Downloading...\n",
            "From: https://drive.google.com/uc?id=1HLJlpPtgys73C3epBTgGRON3mSvsLHC1\n",
            "To: /content/hw4_data.zip\n",
            "100% 1.13G/1.13G [00:09<00:00, 119MB/s]\n"
          ]
        }
      ],
      "source": [
        "!gdown --id 1HLJlpPtgys73C3epBTgGRON3mSvsLHC1 --output hw4_data.zip\n",
        "!unzip -q hw4_data.zip\n",
        "!rm hw4_data.zip"
      ]
    },
    {
      "cell_type": "markdown",
      "source": [
        "# Import Packages"
      ],
      "metadata": {
        "id": "4mUi9aQp3IqO"
      }
    },
    {
      "cell_type": "code",
      "source": [
        "!pip install byol-pytorch"
      ],
      "metadata": {
        "colab": {
          "base_uri": "https://localhost:8080/"
        },
        "id": "8cPw9C8IzYSD",
        "outputId": "fe2a1ba6-996e-4276-d65a-cafc6da20047"
      },
      "execution_count": null,
      "outputs": [
        {
          "output_type": "stream",
          "name": "stdout",
          "text": [
            "Collecting byol-pytorch\n",
            "  Downloading byol_pytorch-0.5.7-py3-none-any.whl (4.8 kB)\n",
            "Requirement already satisfied: torchvision>=0.8 in /usr/local/lib/python3.7/dist-packages (from byol-pytorch) (0.11.1+cu111)\n",
            "Requirement already satisfied: torch>=1.6 in /usr/local/lib/python3.7/dist-packages (from byol-pytorch) (1.10.0+cu111)\n",
            "Requirement already satisfied: typing-extensions in /usr/local/lib/python3.7/dist-packages (from torch>=1.6->byol-pytorch) (3.10.0.2)\n",
            "Requirement already satisfied: numpy in /usr/local/lib/python3.7/dist-packages (from torchvision>=0.8->byol-pytorch) (1.19.5)\n",
            "Requirement already satisfied: pillow!=8.3.0,>=5.3.0 in /usr/local/lib/python3.7/dist-packages (from torchvision>=0.8->byol-pytorch) (7.1.2)\n",
            "Installing collected packages: byol-pytorch\n",
            "Successfully installed byol-pytorch-0.5.7\n"
          ]
        }
      ]
    },
    {
      "cell_type": "code",
      "source": [
        "import glob\n",
        "import numpy as np\n",
        "import os\n",
        "import random\n",
        "import torch\n",
        "import torch.nn as nn\n",
        "from byol_pytorch import BYOL\n",
        "from PIL import Image\n",
        "from torch.utils import data\n",
        "from torch.utils.data import DataLoader\n",
        "from torchvision.transforms import transforms\n",
        "from torchvision import models\n",
        "from tqdm.auto import tqdm"
      ],
      "metadata": {
        "id": "vHcaCwEm3IW-"
      },
      "execution_count": null,
      "outputs": []
    },
    {
      "cell_type": "markdown",
      "source": [
        "# Set Random Seed"
      ],
      "metadata": {
        "id": "euUngcmF3M9M"
      }
    },
    {
      "cell_type": "code",
      "source": [
        "def fix_random_seeds(seed):\n",
        "    random.seed(seed)\n",
        "    os.environ['PYTHONHASHSEED'] = str(seed)\n",
        "    np.random.seed(seed)\n",
        "    torch.manual_seed(seed)\n",
        "    torch.cuda.manual_seed(seed)\n",
        "    torch.cuda.manual_seed_all(seed)\n",
        "    torch.backends.cudnn.benchmark = False\n",
        "    torch.backends.cudnn.deterministic = True\n",
        "    torch.backends.cudnn.enabled = False"
      ],
      "metadata": {
        "id": "KU0pERom3Odg"
      },
      "execution_count": null,
      "outputs": []
    },
    {
      "cell_type": "markdown",
      "source": [
        ""
      ],
      "metadata": {
        "id": "Y3B-HJd13QF-"
      }
    },
    {
      "cell_type": "code",
      "source": [
        "class Mini_Imagenet(data.Dataset):\n",
        "    def __init__(self, paths, transforms):\n",
        "        super().__init__()\n",
        "        self.paths = paths\n",
        "        self.transforms = transforms\n",
        "\n",
        "    def __len__(self):\n",
        "        return len(self.paths)\n",
        "    \n",
        "    def __getitem__(self, index):\n",
        "        path = self.paths[index]\n",
        "        img = Image.open(path).convert('RGB')\n",
        "        return self.transforms(img)\n",
        "        \n",
        "def get_train_dataset(train_folder, image_size, batch_size, n_workers):\n",
        "    train_transforms = transforms.Compose([\n",
        "        transforms.Resize(image_size),\n",
        "        transforms.ToTensor(),\n",
        "    ])\n",
        "    \n",
        "    train_paths = glob.glob(os.path.join(train_folder, '*'))\n",
        "    train_paths.sort()\n",
        "\n",
        "    train_set = Mini_Imagenet(train_paths, train_transforms)\n",
        "    train_loader = DataLoader(train_set, batch_size=batch_size, shuffle=True, num_workers=n_workers)\n",
        "    return train_loader"
      ],
      "metadata": {
        "colab": {
          "base_uri": "https://localhost:8080/",
          "height": 245
        },
        "id": "yysR49qt3RKR",
        "outputId": "aaac5dc9-e871-4504-f0bd-962f131d456b"
      },
      "execution_count": null,
      "outputs": [
        {
          "output_type": "error",
          "ename": "NameError",
          "evalue": "ignored",
          "traceback": [
            "\u001b[0;31m---------------------------------------------------------------------------\u001b[0m",
            "\u001b[0;31mNameError\u001b[0m                                 Traceback (most recent call last)",
            "\u001b[0;32m<ipython-input-15-dd8e59a725bc>\u001b[0m in \u001b[0;36m<module>\u001b[0;34m()\u001b[0m\n\u001b[0;32m----> 1\u001b[0;31m \u001b[0;32mclass\u001b[0m \u001b[0mMini_Imagenet\u001b[0m\u001b[0;34m(\u001b[0m\u001b[0mdata\u001b[0m\u001b[0;34m.\u001b[0m\u001b[0mDataset\u001b[0m\u001b[0;34m)\u001b[0m\u001b[0;34m:\u001b[0m\u001b[0;34m\u001b[0m\u001b[0;34m\u001b[0m\u001b[0m\n\u001b[0m\u001b[1;32m      2\u001b[0m     \u001b[0;32mdef\u001b[0m \u001b[0m__init__\u001b[0m\u001b[0;34m(\u001b[0m\u001b[0mself\u001b[0m\u001b[0;34m,\u001b[0m \u001b[0mpaths\u001b[0m\u001b[0;34m,\u001b[0m \u001b[0mtransforms\u001b[0m\u001b[0;34m)\u001b[0m\u001b[0;34m:\u001b[0m\u001b[0;34m\u001b[0m\u001b[0;34m\u001b[0m\u001b[0m\n\u001b[1;32m      3\u001b[0m         \u001b[0msuper\u001b[0m\u001b[0;34m(\u001b[0m\u001b[0;34m)\u001b[0m\u001b[0;34m.\u001b[0m\u001b[0m__init__\u001b[0m\u001b[0;34m(\u001b[0m\u001b[0;34m)\u001b[0m\u001b[0;34m\u001b[0m\u001b[0;34m\u001b[0m\u001b[0m\n\u001b[1;32m      4\u001b[0m         \u001b[0mself\u001b[0m\u001b[0;34m.\u001b[0m\u001b[0mpaths\u001b[0m \u001b[0;34m=\u001b[0m \u001b[0mpaths\u001b[0m\u001b[0;34m\u001b[0m\u001b[0;34m\u001b[0m\u001b[0m\n\u001b[1;32m      5\u001b[0m         \u001b[0mself\u001b[0m\u001b[0;34m.\u001b[0m\u001b[0mtransforms\u001b[0m \u001b[0;34m=\u001b[0m \u001b[0mtransforms\u001b[0m\u001b[0;34m\u001b[0m\u001b[0;34m\u001b[0m\u001b[0m\n",
            "\u001b[0;31mNameError\u001b[0m: name 'data' is not defined"
          ]
        }
      ]
    },
    {
      "cell_type": "code",
      "source": [
        "def pretrain(device, resnet, learner, optim, train_loader, start_epoch, n_epochs):\n",
        "    for epoch in range(start_epoch, n_epochs):\n",
        "        train_losses = []\n",
        "        for imgs in tqdm(train_loader):\n",
        "        # for i, imgs in enumerate(train_loader):\n",
        "            loss = learner(imgs)\n",
        "            train_losses.append(loss.item())\n",
        "            optim.zero_grad()\n",
        "            loss.backward()\n",
        "            optim.step()\n",
        "            learner.update_moving_average()\n",
        "\n",
        "        loss = sum(train_losses) / len(train_losses)\n",
        "        with open('./record.txt', 'a') as f:\n",
        "            f.write(f\"[ Train | {epoch + 1:03d}/{n_epochs:03d} ] loss = {loss:.5f}\")\n",
        "\n",
        "        # save your improved network\n",
        "        torch.save(resnet.state_dict(), './hw4_2.pt')"
      ],
      "metadata": {
        "id": "adzQGgpup1_L"
      },
      "execution_count": null,
      "outputs": []
    },
    {
      "cell_type": "code",
      "source": [
        "device = \"cuda\" if torch.cuda.is_available() else \"cpu\"\n",
        "seed = 0\n",
        "fix_random_seeds(seed)\n",
        "\n",
        "batch_size = 32\n",
        "n_workers = 0\n",
        "n_epochs = 100\n",
        "image_size = 128\n",
        "resnet = models.resnet50(pretrained=False).to(device)\n",
        "\n",
        "learner = BYOL(\n",
        "    resnet,\n",
        "    image_size = image_size,\n",
        "    hidden_layer = 'avgpool'\n",
        ").to(device)\n",
        "\n",
        "optim = torch.optim.Adam(learner.parameters(), lr=3e-4)\n",
        "\n",
        "load_learner = os.path.exists('./hw4_2.pt')\n",
        "start_epoch = 0\n",
        "if load_learner:\n",
        "    with open('./record.txt', 'a') as f:\n",
        "        f.write('Loading model...\\n')\n",
        "    ckpt = torch.load(f'./hw4_2.pt', map_location='cpu')\n",
        "    start_epoch = ckpt['last_epoch'] + 1\n",
        "    learner.load_state_dict(ckpt['learner'])\n",
        "    optim.load_state_dict(ckpt['optim'])\n",
        "else:\n",
        "    with open('./record.txt', 'w') as f:\n",
        "        f.write('')\n",
        "\n",
        "train_folder = './hw4_data/mini/train'\n",
        "train_loader = get_train_dataset(train_folder, image_size, batch_size, n_workers)\n",
        "pretrain(device, resnet, learner, optim, train_loader, start_epoch, n_epochs)"
      ],
      "metadata": {
        "colab": {
          "base_uri": "https://localhost:8080/",
          "height": 392,
          "referenced_widgets": [
            "c01e63e0c100428380f921c038d684ae",
            "3e7dab2677824fd8a22f51533171b221",
            "e2454f981c244452ac222ec8a55a07dc",
            "cd2659b4a4aa4fd8b57f4d4bcc3ad904",
            "ac4197b780774ce29afb0dca65abe378",
            "b7519fb1b8ca4f33b1356000527382d3",
            "42c5121cb1884c7ea5ee2bde1502ca7e",
            "20f759759bce4169a5614aa4428bfead",
            "40e9831e0f804789953174796678aa04",
            "d086965b46864c3db38ec52d0ac3ab6c",
            "8df7b223055f40a9a38a7cc93f6b9b25"
          ]
        },
        "id": "bJqTEAKpqeYF",
        "outputId": "2112f813-f2cf-4724-d173-175cfb741730"
      },
      "execution_count": null,
      "outputs": [
        {
          "output_type": "display_data",
          "data": {
            "application/vnd.jupyter.widget-view+json": {
              "model_id": "c01e63e0c100428380f921c038d684ae",
              "version_minor": 0,
              "version_major": 2
            },
            "text/plain": [
              "  0%|          | 0/1200 [00:00<?, ?it/s]"
            ]
          },
          "metadata": {}
        },
        {
          "output_type": "error",
          "ename": "KeyboardInterrupt",
          "evalue": "ignored",
          "traceback": [
            "\u001b[0;31m---------------------------------------------------------------------------\u001b[0m",
            "\u001b[0;31mKeyboardInterrupt\u001b[0m                         Traceback (most recent call last)",
            "\u001b[0;32m<ipython-input-10-281c3e4c67d9>\u001b[0m in \u001b[0;36m<module>\u001b[0;34m()\u001b[0m\n\u001b[1;32m     32\u001b[0m \u001b[0mtrain_folder\u001b[0m \u001b[0;34m=\u001b[0m \u001b[0;34m'./hw4_data/mini/train'\u001b[0m\u001b[0;34m\u001b[0m\u001b[0;34m\u001b[0m\u001b[0m\n\u001b[1;32m     33\u001b[0m \u001b[0mtrain_loader\u001b[0m \u001b[0;34m=\u001b[0m \u001b[0mget_train_dataset\u001b[0m\u001b[0;34m(\u001b[0m\u001b[0mtrain_folder\u001b[0m\u001b[0;34m,\u001b[0m \u001b[0mimage_size\u001b[0m\u001b[0;34m,\u001b[0m \u001b[0mbatch_size\u001b[0m\u001b[0;34m,\u001b[0m \u001b[0mn_workers\u001b[0m\u001b[0;34m)\u001b[0m\u001b[0;34m\u001b[0m\u001b[0;34m\u001b[0m\u001b[0m\n\u001b[0;32m---> 34\u001b[0;31m \u001b[0mpretrain\u001b[0m\u001b[0;34m(\u001b[0m\u001b[0mdevice\u001b[0m\u001b[0;34m,\u001b[0m \u001b[0mresnet\u001b[0m\u001b[0;34m,\u001b[0m \u001b[0mlearner\u001b[0m\u001b[0;34m,\u001b[0m \u001b[0moptim\u001b[0m\u001b[0;34m,\u001b[0m \u001b[0mtrain_loader\u001b[0m\u001b[0;34m,\u001b[0m \u001b[0mstart_epoch\u001b[0m\u001b[0;34m,\u001b[0m \u001b[0mn_epochs\u001b[0m\u001b[0;34m)\u001b[0m\u001b[0;34m\u001b[0m\u001b[0;34m\u001b[0m\u001b[0m\n\u001b[0m",
            "\u001b[0;32m<ipython-input-9-dff4a5c61e62>\u001b[0m in \u001b[0;36mpretrain\u001b[0;34m(device, resnet, learner, optim, train_loader, start_epoch, n_epochs)\u001b[0m\n\u001b[1;32m      4\u001b[0m         \u001b[0;32mfor\u001b[0m \u001b[0mimgs\u001b[0m \u001b[0;32min\u001b[0m \u001b[0mtqdm\u001b[0m\u001b[0;34m(\u001b[0m\u001b[0mtrain_loader\u001b[0m\u001b[0;34m)\u001b[0m\u001b[0;34m:\u001b[0m\u001b[0;34m\u001b[0m\u001b[0;34m\u001b[0m\u001b[0m\n\u001b[1;32m      5\u001b[0m         \u001b[0;31m# for i, imgs in enumerate(train_loader):\u001b[0m\u001b[0;34m\u001b[0m\u001b[0;34m\u001b[0m\u001b[0;34m\u001b[0m\u001b[0m\n\u001b[0;32m----> 6\u001b[0;31m             \u001b[0mloss\u001b[0m \u001b[0;34m=\u001b[0m \u001b[0mlearner\u001b[0m\u001b[0;34m(\u001b[0m\u001b[0mimgs\u001b[0m\u001b[0;34m)\u001b[0m\u001b[0;34m\u001b[0m\u001b[0;34m\u001b[0m\u001b[0m\n\u001b[0m\u001b[1;32m      7\u001b[0m             \u001b[0mtrain_losses\u001b[0m\u001b[0;34m.\u001b[0m\u001b[0mappend\u001b[0m\u001b[0;34m(\u001b[0m\u001b[0mloss\u001b[0m\u001b[0;34m.\u001b[0m\u001b[0mitem\u001b[0m\u001b[0;34m(\u001b[0m\u001b[0;34m)\u001b[0m\u001b[0;34m)\u001b[0m\u001b[0;34m\u001b[0m\u001b[0;34m\u001b[0m\u001b[0m\n\u001b[1;32m      8\u001b[0m             \u001b[0moptim\u001b[0m\u001b[0;34m.\u001b[0m\u001b[0mzero_grad\u001b[0m\u001b[0;34m(\u001b[0m\u001b[0;34m)\u001b[0m\u001b[0;34m\u001b[0m\u001b[0;34m\u001b[0m\u001b[0m\n",
            "\u001b[0;32m/usr/local/lib/python3.7/dist-packages/torch/nn/modules/module.py\u001b[0m in \u001b[0;36m_call_impl\u001b[0;34m(self, *input, **kwargs)\u001b[0m\n\u001b[1;32m   1100\u001b[0m         if not (self._backward_hooks or self._forward_hooks or self._forward_pre_hooks or _global_backward_hooks\n\u001b[1;32m   1101\u001b[0m                 or _global_forward_hooks or _global_forward_pre_hooks):\n\u001b[0;32m-> 1102\u001b[0;31m             \u001b[0;32mreturn\u001b[0m \u001b[0mforward_call\u001b[0m\u001b[0;34m(\u001b[0m\u001b[0;34m*\u001b[0m\u001b[0minput\u001b[0m\u001b[0;34m,\u001b[0m \u001b[0;34m**\u001b[0m\u001b[0mkwargs\u001b[0m\u001b[0;34m)\u001b[0m\u001b[0;34m\u001b[0m\u001b[0;34m\u001b[0m\u001b[0m\n\u001b[0m\u001b[1;32m   1103\u001b[0m         \u001b[0;31m# Do not call functions when jit is used\u001b[0m\u001b[0;34m\u001b[0m\u001b[0;34m\u001b[0m\u001b[0;34m\u001b[0m\u001b[0m\n\u001b[1;32m   1104\u001b[0m         \u001b[0mfull_backward_hooks\u001b[0m\u001b[0;34m,\u001b[0m \u001b[0mnon_full_backward_hooks\u001b[0m \u001b[0;34m=\u001b[0m \u001b[0;34m[\u001b[0m\u001b[0;34m]\u001b[0m\u001b[0;34m,\u001b[0m \u001b[0;34m[\u001b[0m\u001b[0;34m]\u001b[0m\u001b[0;34m\u001b[0m\u001b[0;34m\u001b[0m\u001b[0m\n",
            "\u001b[0;32m/usr/local/lib/python3.7/dist-packages/byol_pytorch/byol_pytorch.py\u001b[0m in \u001b[0;36mforward\u001b[0;34m(self, x, return_embedding, return_projection)\u001b[0m\n\u001b[1;32m    248\u001b[0m             \u001b[0mtarget_encoder\u001b[0m \u001b[0;34m=\u001b[0m \u001b[0mself\u001b[0m\u001b[0;34m.\u001b[0m\u001b[0m_get_target_encoder\u001b[0m\u001b[0;34m(\u001b[0m\u001b[0;34m)\u001b[0m \u001b[0;32mif\u001b[0m \u001b[0mself\u001b[0m\u001b[0;34m.\u001b[0m\u001b[0muse_momentum\u001b[0m \u001b[0;32melse\u001b[0m \u001b[0mself\u001b[0m\u001b[0;34m.\u001b[0m\u001b[0monline_encoder\u001b[0m\u001b[0;34m\u001b[0m\u001b[0;34m\u001b[0m\u001b[0m\n\u001b[1;32m    249\u001b[0m             \u001b[0mtarget_proj_one\u001b[0m\u001b[0;34m,\u001b[0m \u001b[0m_\u001b[0m \u001b[0;34m=\u001b[0m \u001b[0mtarget_encoder\u001b[0m\u001b[0;34m(\u001b[0m\u001b[0mimage_one\u001b[0m\u001b[0;34m)\u001b[0m\u001b[0;34m\u001b[0m\u001b[0;34m\u001b[0m\u001b[0m\n\u001b[0;32m--> 250\u001b[0;31m             \u001b[0mtarget_proj_two\u001b[0m\u001b[0;34m,\u001b[0m \u001b[0m_\u001b[0m \u001b[0;34m=\u001b[0m \u001b[0mtarget_encoder\u001b[0m\u001b[0;34m(\u001b[0m\u001b[0mimage_two\u001b[0m\u001b[0;34m)\u001b[0m\u001b[0;34m\u001b[0m\u001b[0;34m\u001b[0m\u001b[0m\n\u001b[0m\u001b[1;32m    251\u001b[0m             \u001b[0mtarget_proj_one\u001b[0m\u001b[0;34m.\u001b[0m\u001b[0mdetach_\u001b[0m\u001b[0;34m(\u001b[0m\u001b[0;34m)\u001b[0m\u001b[0;34m\u001b[0m\u001b[0;34m\u001b[0m\u001b[0m\n\u001b[1;32m    252\u001b[0m             \u001b[0mtarget_proj_two\u001b[0m\u001b[0;34m.\u001b[0m\u001b[0mdetach_\u001b[0m\u001b[0;34m(\u001b[0m\u001b[0;34m)\u001b[0m\u001b[0;34m\u001b[0m\u001b[0;34m\u001b[0m\u001b[0m\n",
            "\u001b[0;32m/usr/local/lib/python3.7/dist-packages/torch/nn/modules/module.py\u001b[0m in \u001b[0;36m_call_impl\u001b[0;34m(self, *input, **kwargs)\u001b[0m\n\u001b[1;32m   1100\u001b[0m         if not (self._backward_hooks or self._forward_hooks or self._forward_pre_hooks or _global_backward_hooks\n\u001b[1;32m   1101\u001b[0m                 or _global_forward_hooks or _global_forward_pre_hooks):\n\u001b[0;32m-> 1102\u001b[0;31m             \u001b[0;32mreturn\u001b[0m \u001b[0mforward_call\u001b[0m\u001b[0;34m(\u001b[0m\u001b[0;34m*\u001b[0m\u001b[0minput\u001b[0m\u001b[0;34m,\u001b[0m \u001b[0;34m**\u001b[0m\u001b[0mkwargs\u001b[0m\u001b[0;34m)\u001b[0m\u001b[0;34m\u001b[0m\u001b[0;34m\u001b[0m\u001b[0m\n\u001b[0m\u001b[1;32m   1103\u001b[0m         \u001b[0;31m# Do not call functions when jit is used\u001b[0m\u001b[0;34m\u001b[0m\u001b[0;34m\u001b[0m\u001b[0;34m\u001b[0m\u001b[0m\n\u001b[1;32m   1104\u001b[0m         \u001b[0mfull_backward_hooks\u001b[0m\u001b[0;34m,\u001b[0m \u001b[0mnon_full_backward_hooks\u001b[0m \u001b[0;34m=\u001b[0m \u001b[0;34m[\u001b[0m\u001b[0;34m]\u001b[0m\u001b[0;34m,\u001b[0m \u001b[0;34m[\u001b[0m\u001b[0;34m]\u001b[0m\u001b[0;34m\u001b[0m\u001b[0;34m\u001b[0m\u001b[0m\n",
            "\u001b[0;32m/usr/local/lib/python3.7/dist-packages/byol_pytorch/byol_pytorch.py\u001b[0m in \u001b[0;36mforward\u001b[0;34m(self, x, return_projection)\u001b[0m\n\u001b[1;32m    147\u001b[0m \u001b[0;34m\u001b[0m\u001b[0m\n\u001b[1;32m    148\u001b[0m     \u001b[0;32mdef\u001b[0m \u001b[0mforward\u001b[0m\u001b[0;34m(\u001b[0m\u001b[0mself\u001b[0m\u001b[0;34m,\u001b[0m \u001b[0mx\u001b[0m\u001b[0;34m,\u001b[0m \u001b[0mreturn_projection\u001b[0m \u001b[0;34m=\u001b[0m \u001b[0;32mTrue\u001b[0m\u001b[0;34m)\u001b[0m\u001b[0;34m:\u001b[0m\u001b[0;34m\u001b[0m\u001b[0;34m\u001b[0m\u001b[0m\n\u001b[0;32m--> 149\u001b[0;31m         \u001b[0mrepresentation\u001b[0m \u001b[0;34m=\u001b[0m \u001b[0mself\u001b[0m\u001b[0;34m.\u001b[0m\u001b[0mget_representation\u001b[0m\u001b[0;34m(\u001b[0m\u001b[0mx\u001b[0m\u001b[0;34m)\u001b[0m\u001b[0;34m\u001b[0m\u001b[0;34m\u001b[0m\u001b[0m\n\u001b[0m\u001b[1;32m    150\u001b[0m \u001b[0;34m\u001b[0m\u001b[0m\n\u001b[1;32m    151\u001b[0m         \u001b[0;32mif\u001b[0m \u001b[0;32mnot\u001b[0m \u001b[0mreturn_projection\u001b[0m\u001b[0;34m:\u001b[0m\u001b[0;34m\u001b[0m\u001b[0;34m\u001b[0m\u001b[0m\n",
            "\u001b[0;32m/usr/local/lib/python3.7/dist-packages/byol_pytorch/byol_pytorch.py\u001b[0m in \u001b[0;36mget_representation\u001b[0;34m(self, x)\u001b[0m\n\u001b[1;32m    139\u001b[0m \u001b[0;34m\u001b[0m\u001b[0m\n\u001b[1;32m    140\u001b[0m         \u001b[0mself\u001b[0m\u001b[0;34m.\u001b[0m\u001b[0mhidden\u001b[0m\u001b[0;34m.\u001b[0m\u001b[0mclear\u001b[0m\u001b[0;34m(\u001b[0m\u001b[0;34m)\u001b[0m\u001b[0;34m\u001b[0m\u001b[0;34m\u001b[0m\u001b[0m\n\u001b[0;32m--> 141\u001b[0;31m         \u001b[0m_\u001b[0m \u001b[0;34m=\u001b[0m \u001b[0mself\u001b[0m\u001b[0;34m.\u001b[0m\u001b[0mnet\u001b[0m\u001b[0;34m(\u001b[0m\u001b[0mx\u001b[0m\u001b[0;34m)\u001b[0m\u001b[0;34m\u001b[0m\u001b[0;34m\u001b[0m\u001b[0m\n\u001b[0m\u001b[1;32m    142\u001b[0m         \u001b[0mhidden\u001b[0m \u001b[0;34m=\u001b[0m \u001b[0mself\u001b[0m\u001b[0;34m.\u001b[0m\u001b[0mhidden\u001b[0m\u001b[0;34m[\u001b[0m\u001b[0mx\u001b[0m\u001b[0;34m.\u001b[0m\u001b[0mdevice\u001b[0m\u001b[0;34m]\u001b[0m\u001b[0;34m\u001b[0m\u001b[0;34m\u001b[0m\u001b[0m\n\u001b[1;32m    143\u001b[0m         \u001b[0mself\u001b[0m\u001b[0;34m.\u001b[0m\u001b[0mhidden\u001b[0m\u001b[0;34m.\u001b[0m\u001b[0mclear\u001b[0m\u001b[0;34m(\u001b[0m\u001b[0;34m)\u001b[0m\u001b[0;34m\u001b[0m\u001b[0;34m\u001b[0m\u001b[0m\n",
            "\u001b[0;32m/usr/local/lib/python3.7/dist-packages/torch/nn/modules/module.py\u001b[0m in \u001b[0;36m_call_impl\u001b[0;34m(self, *input, **kwargs)\u001b[0m\n\u001b[1;32m   1100\u001b[0m         if not (self._backward_hooks or self._forward_hooks or self._forward_pre_hooks or _global_backward_hooks\n\u001b[1;32m   1101\u001b[0m                 or _global_forward_hooks or _global_forward_pre_hooks):\n\u001b[0;32m-> 1102\u001b[0;31m             \u001b[0;32mreturn\u001b[0m \u001b[0mforward_call\u001b[0m\u001b[0;34m(\u001b[0m\u001b[0;34m*\u001b[0m\u001b[0minput\u001b[0m\u001b[0;34m,\u001b[0m \u001b[0;34m**\u001b[0m\u001b[0mkwargs\u001b[0m\u001b[0;34m)\u001b[0m\u001b[0;34m\u001b[0m\u001b[0;34m\u001b[0m\u001b[0m\n\u001b[0m\u001b[1;32m   1103\u001b[0m         \u001b[0;31m# Do not call functions when jit is used\u001b[0m\u001b[0;34m\u001b[0m\u001b[0;34m\u001b[0m\u001b[0;34m\u001b[0m\u001b[0m\n\u001b[1;32m   1104\u001b[0m         \u001b[0mfull_backward_hooks\u001b[0m\u001b[0;34m,\u001b[0m \u001b[0mnon_full_backward_hooks\u001b[0m \u001b[0;34m=\u001b[0m \u001b[0;34m[\u001b[0m\u001b[0;34m]\u001b[0m\u001b[0;34m,\u001b[0m \u001b[0;34m[\u001b[0m\u001b[0;34m]\u001b[0m\u001b[0;34m\u001b[0m\u001b[0;34m\u001b[0m\u001b[0m\n",
            "\u001b[0;32m/usr/local/lib/python3.7/dist-packages/torchvision/models/resnet.py\u001b[0m in \u001b[0;36mforward\u001b[0;34m(self, x)\u001b[0m\n\u001b[1;32m    247\u001b[0m \u001b[0;34m\u001b[0m\u001b[0m\n\u001b[1;32m    248\u001b[0m     \u001b[0;32mdef\u001b[0m \u001b[0mforward\u001b[0m\u001b[0;34m(\u001b[0m\u001b[0mself\u001b[0m\u001b[0;34m,\u001b[0m \u001b[0mx\u001b[0m\u001b[0;34m:\u001b[0m \u001b[0mTensor\u001b[0m\u001b[0;34m)\u001b[0m \u001b[0;34m->\u001b[0m \u001b[0mTensor\u001b[0m\u001b[0;34m:\u001b[0m\u001b[0;34m\u001b[0m\u001b[0;34m\u001b[0m\u001b[0m\n\u001b[0;32m--> 249\u001b[0;31m         \u001b[0;32mreturn\u001b[0m \u001b[0mself\u001b[0m\u001b[0;34m.\u001b[0m\u001b[0m_forward_impl\u001b[0m\u001b[0;34m(\u001b[0m\u001b[0mx\u001b[0m\u001b[0;34m)\u001b[0m\u001b[0;34m\u001b[0m\u001b[0;34m\u001b[0m\u001b[0m\n\u001b[0m\u001b[1;32m    250\u001b[0m \u001b[0;34m\u001b[0m\u001b[0m\n\u001b[1;32m    251\u001b[0m \u001b[0;34m\u001b[0m\u001b[0m\n",
            "\u001b[0;32m/usr/local/lib/python3.7/dist-packages/torchvision/models/resnet.py\u001b[0m in \u001b[0;36m_forward_impl\u001b[0;34m(self, x)\u001b[0m\n\u001b[1;32m    236\u001b[0m \u001b[0;34m\u001b[0m\u001b[0m\n\u001b[1;32m    237\u001b[0m         \u001b[0mx\u001b[0m \u001b[0;34m=\u001b[0m \u001b[0mself\u001b[0m\u001b[0;34m.\u001b[0m\u001b[0mlayer1\u001b[0m\u001b[0;34m(\u001b[0m\u001b[0mx\u001b[0m\u001b[0;34m)\u001b[0m\u001b[0;34m\u001b[0m\u001b[0;34m\u001b[0m\u001b[0m\n\u001b[0;32m--> 238\u001b[0;31m         \u001b[0mx\u001b[0m \u001b[0;34m=\u001b[0m \u001b[0mself\u001b[0m\u001b[0;34m.\u001b[0m\u001b[0mlayer2\u001b[0m\u001b[0;34m(\u001b[0m\u001b[0mx\u001b[0m\u001b[0;34m)\u001b[0m\u001b[0;34m\u001b[0m\u001b[0;34m\u001b[0m\u001b[0m\n\u001b[0m\u001b[1;32m    239\u001b[0m         \u001b[0mx\u001b[0m \u001b[0;34m=\u001b[0m \u001b[0mself\u001b[0m\u001b[0;34m.\u001b[0m\u001b[0mlayer3\u001b[0m\u001b[0;34m(\u001b[0m\u001b[0mx\u001b[0m\u001b[0;34m)\u001b[0m\u001b[0;34m\u001b[0m\u001b[0;34m\u001b[0m\u001b[0m\n\u001b[1;32m    240\u001b[0m         \u001b[0mx\u001b[0m \u001b[0;34m=\u001b[0m \u001b[0mself\u001b[0m\u001b[0;34m.\u001b[0m\u001b[0mlayer4\u001b[0m\u001b[0;34m(\u001b[0m\u001b[0mx\u001b[0m\u001b[0;34m)\u001b[0m\u001b[0;34m\u001b[0m\u001b[0;34m\u001b[0m\u001b[0m\n",
            "\u001b[0;32m/usr/local/lib/python3.7/dist-packages/torch/nn/modules/module.py\u001b[0m in \u001b[0;36m_call_impl\u001b[0;34m(self, *input, **kwargs)\u001b[0m\n\u001b[1;32m   1100\u001b[0m         if not (self._backward_hooks or self._forward_hooks or self._forward_pre_hooks or _global_backward_hooks\n\u001b[1;32m   1101\u001b[0m                 or _global_forward_hooks or _global_forward_pre_hooks):\n\u001b[0;32m-> 1102\u001b[0;31m             \u001b[0;32mreturn\u001b[0m \u001b[0mforward_call\u001b[0m\u001b[0;34m(\u001b[0m\u001b[0;34m*\u001b[0m\u001b[0minput\u001b[0m\u001b[0;34m,\u001b[0m \u001b[0;34m**\u001b[0m\u001b[0mkwargs\u001b[0m\u001b[0;34m)\u001b[0m\u001b[0;34m\u001b[0m\u001b[0;34m\u001b[0m\u001b[0m\n\u001b[0m\u001b[1;32m   1103\u001b[0m         \u001b[0;31m# Do not call functions when jit is used\u001b[0m\u001b[0;34m\u001b[0m\u001b[0;34m\u001b[0m\u001b[0;34m\u001b[0m\u001b[0m\n\u001b[1;32m   1104\u001b[0m         \u001b[0mfull_backward_hooks\u001b[0m\u001b[0;34m,\u001b[0m \u001b[0mnon_full_backward_hooks\u001b[0m \u001b[0;34m=\u001b[0m \u001b[0;34m[\u001b[0m\u001b[0;34m]\u001b[0m\u001b[0;34m,\u001b[0m \u001b[0;34m[\u001b[0m\u001b[0;34m]\u001b[0m\u001b[0;34m\u001b[0m\u001b[0;34m\u001b[0m\u001b[0m\n",
            "\u001b[0;32m/usr/local/lib/python3.7/dist-packages/torch/nn/modules/container.py\u001b[0m in \u001b[0;36mforward\u001b[0;34m(self, input)\u001b[0m\n\u001b[1;32m    139\u001b[0m     \u001b[0;32mdef\u001b[0m \u001b[0mforward\u001b[0m\u001b[0;34m(\u001b[0m\u001b[0mself\u001b[0m\u001b[0;34m,\u001b[0m \u001b[0minput\u001b[0m\u001b[0;34m)\u001b[0m\u001b[0;34m:\u001b[0m\u001b[0;34m\u001b[0m\u001b[0;34m\u001b[0m\u001b[0m\n\u001b[1;32m    140\u001b[0m         \u001b[0;32mfor\u001b[0m \u001b[0mmodule\u001b[0m \u001b[0;32min\u001b[0m \u001b[0mself\u001b[0m\u001b[0;34m:\u001b[0m\u001b[0;34m\u001b[0m\u001b[0;34m\u001b[0m\u001b[0m\n\u001b[0;32m--> 141\u001b[0;31m             \u001b[0minput\u001b[0m \u001b[0;34m=\u001b[0m \u001b[0mmodule\u001b[0m\u001b[0;34m(\u001b[0m\u001b[0minput\u001b[0m\u001b[0;34m)\u001b[0m\u001b[0;34m\u001b[0m\u001b[0;34m\u001b[0m\u001b[0m\n\u001b[0m\u001b[1;32m    142\u001b[0m         \u001b[0;32mreturn\u001b[0m \u001b[0minput\u001b[0m\u001b[0;34m\u001b[0m\u001b[0;34m\u001b[0m\u001b[0m\n\u001b[1;32m    143\u001b[0m \u001b[0;34m\u001b[0m\u001b[0m\n",
            "\u001b[0;32m/usr/local/lib/python3.7/dist-packages/torch/nn/modules/module.py\u001b[0m in \u001b[0;36m_call_impl\u001b[0;34m(self, *input, **kwargs)\u001b[0m\n\u001b[1;32m   1100\u001b[0m         if not (self._backward_hooks or self._forward_hooks or self._forward_pre_hooks or _global_backward_hooks\n\u001b[1;32m   1101\u001b[0m                 or _global_forward_hooks or _global_forward_pre_hooks):\n\u001b[0;32m-> 1102\u001b[0;31m             \u001b[0;32mreturn\u001b[0m \u001b[0mforward_call\u001b[0m\u001b[0;34m(\u001b[0m\u001b[0;34m*\u001b[0m\u001b[0minput\u001b[0m\u001b[0;34m,\u001b[0m \u001b[0;34m**\u001b[0m\u001b[0mkwargs\u001b[0m\u001b[0;34m)\u001b[0m\u001b[0;34m\u001b[0m\u001b[0;34m\u001b[0m\u001b[0m\n\u001b[0m\u001b[1;32m   1103\u001b[0m         \u001b[0;31m# Do not call functions when jit is used\u001b[0m\u001b[0;34m\u001b[0m\u001b[0;34m\u001b[0m\u001b[0;34m\u001b[0m\u001b[0m\n\u001b[1;32m   1104\u001b[0m         \u001b[0mfull_backward_hooks\u001b[0m\u001b[0;34m,\u001b[0m \u001b[0mnon_full_backward_hooks\u001b[0m \u001b[0;34m=\u001b[0m \u001b[0;34m[\u001b[0m\u001b[0;34m]\u001b[0m\u001b[0;34m,\u001b[0m \u001b[0;34m[\u001b[0m\u001b[0;34m]\u001b[0m\u001b[0;34m\u001b[0m\u001b[0;34m\u001b[0m\u001b[0m\n",
            "\u001b[0;32m/usr/local/lib/python3.7/dist-packages/torchvision/models/resnet.py\u001b[0m in \u001b[0;36mforward\u001b[0;34m(self, x)\u001b[0m\n\u001b[1;32m    134\u001b[0m \u001b[0;34m\u001b[0m\u001b[0m\n\u001b[1;32m    135\u001b[0m         \u001b[0;32mif\u001b[0m \u001b[0mself\u001b[0m\u001b[0;34m.\u001b[0m\u001b[0mdownsample\u001b[0m \u001b[0;32mis\u001b[0m \u001b[0;32mnot\u001b[0m \u001b[0;32mNone\u001b[0m\u001b[0;34m:\u001b[0m\u001b[0;34m\u001b[0m\u001b[0;34m\u001b[0m\u001b[0m\n\u001b[0;32m--> 136\u001b[0;31m             \u001b[0midentity\u001b[0m \u001b[0;34m=\u001b[0m \u001b[0mself\u001b[0m\u001b[0;34m.\u001b[0m\u001b[0mdownsample\u001b[0m\u001b[0;34m(\u001b[0m\u001b[0mx\u001b[0m\u001b[0;34m)\u001b[0m\u001b[0;34m\u001b[0m\u001b[0;34m\u001b[0m\u001b[0m\n\u001b[0m\u001b[1;32m    137\u001b[0m \u001b[0;34m\u001b[0m\u001b[0m\n\u001b[1;32m    138\u001b[0m         \u001b[0mout\u001b[0m \u001b[0;34m+=\u001b[0m \u001b[0midentity\u001b[0m\u001b[0;34m\u001b[0m\u001b[0;34m\u001b[0m\u001b[0m\n",
            "\u001b[0;32m/usr/local/lib/python3.7/dist-packages/torch/nn/modules/module.py\u001b[0m in \u001b[0;36m_call_impl\u001b[0;34m(self, *input, **kwargs)\u001b[0m\n\u001b[1;32m   1100\u001b[0m         if not (self._backward_hooks or self._forward_hooks or self._forward_pre_hooks or _global_backward_hooks\n\u001b[1;32m   1101\u001b[0m                 or _global_forward_hooks or _global_forward_pre_hooks):\n\u001b[0;32m-> 1102\u001b[0;31m             \u001b[0;32mreturn\u001b[0m \u001b[0mforward_call\u001b[0m\u001b[0;34m(\u001b[0m\u001b[0;34m*\u001b[0m\u001b[0minput\u001b[0m\u001b[0;34m,\u001b[0m \u001b[0;34m**\u001b[0m\u001b[0mkwargs\u001b[0m\u001b[0;34m)\u001b[0m\u001b[0;34m\u001b[0m\u001b[0;34m\u001b[0m\u001b[0m\n\u001b[0m\u001b[1;32m   1103\u001b[0m         \u001b[0;31m# Do not call functions when jit is used\u001b[0m\u001b[0;34m\u001b[0m\u001b[0;34m\u001b[0m\u001b[0;34m\u001b[0m\u001b[0m\n\u001b[1;32m   1104\u001b[0m         \u001b[0mfull_backward_hooks\u001b[0m\u001b[0;34m,\u001b[0m \u001b[0mnon_full_backward_hooks\u001b[0m \u001b[0;34m=\u001b[0m \u001b[0;34m[\u001b[0m\u001b[0;34m]\u001b[0m\u001b[0;34m,\u001b[0m \u001b[0;34m[\u001b[0m\u001b[0;34m]\u001b[0m\u001b[0;34m\u001b[0m\u001b[0;34m\u001b[0m\u001b[0m\n",
            "\u001b[0;32m/usr/local/lib/python3.7/dist-packages/torch/nn/modules/container.py\u001b[0m in \u001b[0;36mforward\u001b[0;34m(self, input)\u001b[0m\n\u001b[1;32m    139\u001b[0m     \u001b[0;32mdef\u001b[0m \u001b[0mforward\u001b[0m\u001b[0;34m(\u001b[0m\u001b[0mself\u001b[0m\u001b[0;34m,\u001b[0m \u001b[0minput\u001b[0m\u001b[0;34m)\u001b[0m\u001b[0;34m:\u001b[0m\u001b[0;34m\u001b[0m\u001b[0;34m\u001b[0m\u001b[0m\n\u001b[1;32m    140\u001b[0m         \u001b[0;32mfor\u001b[0m \u001b[0mmodule\u001b[0m \u001b[0;32min\u001b[0m \u001b[0mself\u001b[0m\u001b[0;34m:\u001b[0m\u001b[0;34m\u001b[0m\u001b[0;34m\u001b[0m\u001b[0m\n\u001b[0;32m--> 141\u001b[0;31m             \u001b[0minput\u001b[0m \u001b[0;34m=\u001b[0m \u001b[0mmodule\u001b[0m\u001b[0;34m(\u001b[0m\u001b[0minput\u001b[0m\u001b[0;34m)\u001b[0m\u001b[0;34m\u001b[0m\u001b[0;34m\u001b[0m\u001b[0m\n\u001b[0m\u001b[1;32m    142\u001b[0m         \u001b[0;32mreturn\u001b[0m \u001b[0minput\u001b[0m\u001b[0;34m\u001b[0m\u001b[0;34m\u001b[0m\u001b[0m\n\u001b[1;32m    143\u001b[0m \u001b[0;34m\u001b[0m\u001b[0m\n",
            "\u001b[0;32m/usr/local/lib/python3.7/dist-packages/torch/nn/modules/module.py\u001b[0m in \u001b[0;36m_call_impl\u001b[0;34m(self, *input, **kwargs)\u001b[0m\n\u001b[1;32m   1100\u001b[0m         if not (self._backward_hooks or self._forward_hooks or self._forward_pre_hooks or _global_backward_hooks\n\u001b[1;32m   1101\u001b[0m                 or _global_forward_hooks or _global_forward_pre_hooks):\n\u001b[0;32m-> 1102\u001b[0;31m             \u001b[0;32mreturn\u001b[0m \u001b[0mforward_call\u001b[0m\u001b[0;34m(\u001b[0m\u001b[0;34m*\u001b[0m\u001b[0minput\u001b[0m\u001b[0;34m,\u001b[0m \u001b[0;34m**\u001b[0m\u001b[0mkwargs\u001b[0m\u001b[0;34m)\u001b[0m\u001b[0;34m\u001b[0m\u001b[0;34m\u001b[0m\u001b[0m\n\u001b[0m\u001b[1;32m   1103\u001b[0m         \u001b[0;31m# Do not call functions when jit is used\u001b[0m\u001b[0;34m\u001b[0m\u001b[0;34m\u001b[0m\u001b[0;34m\u001b[0m\u001b[0m\n\u001b[1;32m   1104\u001b[0m         \u001b[0mfull_backward_hooks\u001b[0m\u001b[0;34m,\u001b[0m \u001b[0mnon_full_backward_hooks\u001b[0m \u001b[0;34m=\u001b[0m \u001b[0;34m[\u001b[0m\u001b[0;34m]\u001b[0m\u001b[0;34m,\u001b[0m \u001b[0;34m[\u001b[0m\u001b[0;34m]\u001b[0m\u001b[0;34m\u001b[0m\u001b[0;34m\u001b[0m\u001b[0m\n",
            "\u001b[0;32m/usr/local/lib/python3.7/dist-packages/torch/nn/modules/conv.py\u001b[0m in \u001b[0;36mforward\u001b[0;34m(self, input)\u001b[0m\n\u001b[1;32m    444\u001b[0m \u001b[0;34m\u001b[0m\u001b[0m\n\u001b[1;32m    445\u001b[0m     \u001b[0;32mdef\u001b[0m \u001b[0mforward\u001b[0m\u001b[0;34m(\u001b[0m\u001b[0mself\u001b[0m\u001b[0;34m,\u001b[0m \u001b[0minput\u001b[0m\u001b[0;34m:\u001b[0m \u001b[0mTensor\u001b[0m\u001b[0;34m)\u001b[0m \u001b[0;34m->\u001b[0m \u001b[0mTensor\u001b[0m\u001b[0;34m:\u001b[0m\u001b[0;34m\u001b[0m\u001b[0;34m\u001b[0m\u001b[0m\n\u001b[0;32m--> 446\u001b[0;31m         \u001b[0;32mreturn\u001b[0m \u001b[0mself\u001b[0m\u001b[0;34m.\u001b[0m\u001b[0m_conv_forward\u001b[0m\u001b[0;34m(\u001b[0m\u001b[0minput\u001b[0m\u001b[0;34m,\u001b[0m \u001b[0mself\u001b[0m\u001b[0;34m.\u001b[0m\u001b[0mweight\u001b[0m\u001b[0;34m,\u001b[0m \u001b[0mself\u001b[0m\u001b[0;34m.\u001b[0m\u001b[0mbias\u001b[0m\u001b[0;34m)\u001b[0m\u001b[0;34m\u001b[0m\u001b[0;34m\u001b[0m\u001b[0m\n\u001b[0m\u001b[1;32m    447\u001b[0m \u001b[0;34m\u001b[0m\u001b[0m\n\u001b[1;32m    448\u001b[0m \u001b[0;32mclass\u001b[0m \u001b[0mConv3d\u001b[0m\u001b[0;34m(\u001b[0m\u001b[0m_ConvNd\u001b[0m\u001b[0;34m)\u001b[0m\u001b[0;34m:\u001b[0m\u001b[0;34m\u001b[0m\u001b[0;34m\u001b[0m\u001b[0m\n",
            "\u001b[0;32m/usr/local/lib/python3.7/dist-packages/torch/nn/modules/conv.py\u001b[0m in \u001b[0;36m_conv_forward\u001b[0;34m(self, input, weight, bias)\u001b[0m\n\u001b[1;32m    441\u001b[0m                             _pair(0), self.dilation, self.groups)\n\u001b[1;32m    442\u001b[0m         return F.conv2d(input, weight, bias, self.stride,\n\u001b[0;32m--> 443\u001b[0;31m                         self.padding, self.dilation, self.groups)\n\u001b[0m\u001b[1;32m    444\u001b[0m \u001b[0;34m\u001b[0m\u001b[0m\n\u001b[1;32m    445\u001b[0m     \u001b[0;32mdef\u001b[0m \u001b[0mforward\u001b[0m\u001b[0;34m(\u001b[0m\u001b[0mself\u001b[0m\u001b[0;34m,\u001b[0m \u001b[0minput\u001b[0m\u001b[0;34m:\u001b[0m \u001b[0mTensor\u001b[0m\u001b[0;34m)\u001b[0m \u001b[0;34m->\u001b[0m \u001b[0mTensor\u001b[0m\u001b[0;34m:\u001b[0m\u001b[0;34m\u001b[0m\u001b[0;34m\u001b[0m\u001b[0m\n",
            "\u001b[0;31mKeyboardInterrupt\u001b[0m: "
          ]
        }
      ]
    },
    {
      "cell_type": "code",
      "source": [
        "class Office_Imagenet(data.Dataset):\n",
        "    def __init__(self, fns, labels, transforms):\n",
        "        super().__init__()\n",
        "        self.fns = fns\n",
        "        self.labels = labels\n",
        "        self.transforms = transforms\n",
        "\n",
        "    def __len__(self):\n",
        "        return len(self.fns)\n",
        "    \n",
        "    def __getitem__(self, index):\n",
        "        fn = self.fns[index]\n",
        "        img = Image.open(fn).convert('RGB')\n",
        "        return self.transforms(img), self.labels[index]\n",
        "        \n",
        "def get_train_dataset(folder, image_size, batch_size, n_workers):\n",
        "    train_transforms = transforms.Compose([\n",
        "        transforms.Resize((image_size, image_size)),\n",
        "        transforms.ToTensor(),\n",
        "        transforms.Normalize(mean=[0.485, 0.456, 0.406], std=[0.229, 0.224, 0.225])\n",
        "    ])\n",
        "    \n",
        "    train_path = os.path.join(folder, 'train')\n",
        "\n",
        "    csv_path = os.path.join(folder, 'train.csv')\n",
        "    labels = []\n",
        "    label_num = -1\n",
        "    fns = []\n",
        "    label_num_pairs = []\n",
        "    with open(csv_path, 'r') as f:\n",
        "        for line in f.readlines()[1:]:\n",
        "            _, fn, label = line[:-1].split(',')\n",
        "            fns.append(os.path.join(train_path, fn))\n",
        "            if label not in label_num_pairs:\n",
        "                label_num += 1\n",
        "                label_num_pairs.append(label)\n",
        "            labels.append(label_num_pairs.index(label))\n",
        "    # print(fns)\n",
        "    # print(labels)\n",
        "    # print(label_num_pairs)\n",
        "    classes = len(label_num_pairs)\n",
        "\n",
        "    train_set = Office_Imagenet(fns, labels, train_transforms)\n",
        "    train_loader = DataLoader(train_set, batch_size=batch_size, shuffle=True, num_workers=n_workers)\n",
        "    return train_loader, label_num_pairs\n",
        "\n",
        "def get_val_dataset(folder, image_size, batch_size, n_workers, label_num_pairs):\n",
        "    val_transforms = transforms.Compose([\n",
        "        transforms.Resize((image_size, image_size)),\n",
        "        transforms.ToTensor(),\n",
        "        transforms.Normalize(mean=[0.485, 0.456, 0.406], std=[0.229, 0.224, 0.225])\n",
        "    ])\n",
        "    \n",
        "    val_path = os.path.join(folder, 'val')\n",
        "\n",
        "    csv_path = os.path.join(folder, 'val.csv')\n",
        "    \n",
        "    fns = []\n",
        "    labels = []\n",
        "    with open(csv_path, 'r') as f:\n",
        "        for line in f.readlines()[1:]:\n",
        "            _, fn, label = line[:-1].split(',')\n",
        "            fns.append(os.path.join(val_path, fn))\n",
        "            labels.append(label_num_pairs.index(label))\n",
        "\n",
        "    val_set = Office_Imagenet(fns, labels, val_transforms)\n",
        "    val_loader = DataLoader(val_set, batch_size=batch_size, shuffle=False, num_workers=n_workers)\n",
        "    return val_loader"
      ],
      "metadata": {
        "id": "RwaTbW20sdl8"
      },
      "execution_count": null,
      "outputs": []
    },
    {
      "cell_type": "code",
      "source": [
        "class Classifier(nn.Module):\n",
        "    def __init__(self, classes, train_backbone):\n",
        "        super().__init__()\n",
        "\n",
        "        self.resnet = models.resnet50(pretrained=False)\n",
        "        # ckpt = torch.load(f'./hw4_2.pt', map_location='cpu')\n",
        "        # self.resnet.load_state_dict(ckpt['resnet'])\n",
        "        # ckpt = torch.load(f'./hw4_data/pretrain_model_SL.pt', map_location='cpu')\n",
        "        # self.resnet.load_state_dict(ckpt)\n",
        "        for params in self.resnet.parameters():\n",
        "            params.requires_grad = train_backbone\n",
        "        self.resnet.fc = nn.Linear(2048, classes)\n",
        "\n",
        "    def forward(self, x):\n",
        "        x = self.resnet(x)\n",
        "        return x"
      ],
      "metadata": {
        "id": "GV9RXgzK2GO0"
      },
      "execution_count": null,
      "outputs": []
    },
    {
      "cell_type": "code",
      "source": [
        "def train(\n",
        "    device,\n",
        "    classifier,\n",
        "    optim,\n",
        "    train_loader,\n",
        "    val_loader,\n",
        "    start_epoch,\n",
        "    n_epochs,\n",
        "    ckpt_path,\n",
        "    record_path\n",
        "):\n",
        "    \n",
        "    loss_fn = nn.CrossEntropyLoss()\n",
        "\n",
        "    for epoch in range(start_epoch, n_epochs):\n",
        "        classifier.train()\n",
        "        train_losses = []\n",
        "        train_accs = []\n",
        "        max_train_acc = 0\n",
        "        for batch in tqdm(train_loader):\n",
        "        # for i, batch in enumerate(train_loader):\n",
        "            imgs, labels = batch\n",
        "            imgs = imgs.to(device)\n",
        "            labels = labels.to(device)\n",
        "\n",
        "            logits = classifier(imgs)\n",
        "            loss = loss_fn(logits, labels)\n",
        "            train_losses.append(loss.item())\n",
        "\n",
        "            optim.zero_grad()\n",
        "            loss.backward()\n",
        "            optim.step()\n",
        "\n",
        "            acc = (logits.argmax(dim=-1) == labels.to(device)).float().mean()\n",
        "            train_accs.append(acc)\n",
        "\n",
        "        loss = sum(train_losses) / len(train_losses)\n",
        "        acc = sum(train_accs) / len(train_accs)\n",
        "\n",
        "        with open(record_path, 'a') as f:\n",
        "            f.write(f\"[ Train | {epoch + 1:03d}/{n_epochs:03d} ] loss = {loss:.5f}, acc = {acc:.5f}\\n\")\n",
        "        \n",
        "        if max_train_acc < acc:\n",
        "            with open(record_path, 'a') as f:\n",
        "                f.write('Saving model...\\n')\n",
        "            torch.save({\n",
        "                'classifier': classifier.state_dict(),\n",
        "                'last_epoch': epoch,\n",
        "                'optim': optim.state_dict()\n",
        "            }, ckpt_path)\n",
        "            max_trian_acc = acc\n",
        "\n",
        "        classifier.eval()\n",
        "        val_losses = []\n",
        "        val_accs = []\n",
        "        with torch.no_grad():\n",
        "            for batch in tqdm(val_loader):\n",
        "            # for i, batch in enumerate(val_loader):\n",
        "                imgs, labels = batch\n",
        "                imgs = imgs.to(device)\n",
        "                labels = labels.to(device)\n",
        "\n",
        "                logits = classifier(imgs)\n",
        "                loss = loss_fn(logits, labels)\n",
        "                val_losses.append(loss.item())\n",
        "\n",
        "                acc = (logits.argmax(dim=-1) == labels.to(device)).float().mean()\n",
        "                val_accs.append(acc)\n",
        "\n",
        "        loss = sum(val_losses) / len(val_losses)\n",
        "        acc = sum(val_accs) / len(val_accs)\n",
        "\n",
        "        with open(record_path, 'a') as f:\n",
        "            f.write(f\"[ Valid | {epoch + 1:03d}/{n_epochs:03d} ] loss = {loss:.5f}, acc = {acc:.5f}\\n\")"
      ],
      "metadata": {
        "id": "DgtkD3fF2D-N"
      },
      "execution_count": null,
      "outputs": []
    },
    {
      "cell_type": "code",
      "source": [
        "device = \"cuda\" if torch.cuda.is_available() else \"cpu\"\n",
        "seed = 0\n",
        "fix_random_seeds(seed)\n",
        "\n",
        "batch_size = 32\n",
        "n_workers = 0\n",
        "n_epochs = 10\n",
        "image_size = 128\n",
        "classes = 65\n",
        "ckpt_path = './hw4_2_train_C.pt'\n",
        "record_path = './record.txt'\n",
        "\n",
        "classifier = Classifier(classes, True).to(device)\n",
        "\n",
        "optim = torch.optim.Adam(classifier.parameters(), lr=1e-3)\n",
        "\n",
        "load_model = os.path.exists(ckpt_path)\n",
        "\n",
        "start_epoch = 0\n",
        "if load_model:\n",
        "    with open(record_path, 'a') as f:\n",
        "        f.write('Loading model...\\n')\n",
        "\n",
        "    ckpt = torch.load(ckpt_path, map_location='cpu')\n",
        "\n",
        "    start_epoch = ckpt['last_epoch'] + 1\n",
        "    classifier.load_state_dict(ckpt['classifier'])\n",
        "    optim.load_state_dict(ckpt['optim'])\n",
        "else:\n",
        "    with open(record_path, 'w') as f:\n",
        "        f.write('')\n",
        "\n",
        "data_folder = './hw4_data/office'\n",
        "train_loader, label_num_pairs = get_train_dataset(data_folder, image_size, batch_size, n_workers)\n",
        "print(label_num_pairs)\n",
        "with open('./label_pairs.txt', 'w') as f:\n",
        "    for i in label_num_pairs:\n",
        "        f.write(f'{i}\\n')\n",
        "input()\n",
        "val_loader = get_val_dataset(data_folder, image_size, batch_size, n_workers, label_num_pairs)\n",
        "train(\n",
        "    device,\n",
        "    classifier,\n",
        "    optim,\n",
        "    train_loader,\n",
        "    val_loader,\n",
        "    start_epoch,\n",
        "    n_epochs,\n",
        "    ckpt_path,\n",
        "    record_path\n",
        ")"
      ],
      "metadata": {
        "colab": {
          "base_uri": "https://localhost:8080/",
          "height": 598
        },
        "id": "D6VOXl0B5UuS",
        "outputId": "1d1cc4b0-6a3b-4ac3-fc06-98575e1e0e2a"
      },
      "execution_count": null,
      "outputs": [
        {
          "output_type": "stream",
          "name": "stdout",
          "text": [
            "['Couch', 'Helmet', 'Refrigerator', 'Alarm_Clock', 'Bike', 'Bottle', 'Calculator', 'Chair', 'Mouse', 'Monitor', 'Table', 'Pen', 'Pencil', 'Flowers', 'Shelf', 'Laptop', 'Speaker', 'Sneakers', 'Printer', 'Calendar', 'Bed', 'Knives', 'Backpack', 'Paper_Clip', 'Candles', 'Soda', 'Clipboards', 'Fork', 'Exit_Sign', 'Lamp_Shade', 'Trash_Can', 'Computer', 'Scissors', 'Webcam', 'Sink', 'Postit_Notes', 'Glasses', 'File_Cabinet', 'Radio', 'Bucket', 'Drill', 'Desk_Lamp', 'Toys', 'Keyboard', 'Notebook', 'Ruler', 'ToothBrush', 'Mop', 'Flipflops', 'Oven', 'TV', 'Eraser', 'Telephone', 'Kettle', 'Curtains', 'Mug', 'Fan', 'Push_Pin', 'Batteries', 'Pan', 'Marker', 'Spoon', 'Screwdriver', 'Hammer', 'Folder']\n"
          ]
        },
        {
          "output_type": "error",
          "ename": "KeyboardInterrupt",
          "evalue": "ignored",
          "traceback": [
            "\u001b[0;31m---------------------------------------------------------------------------\u001b[0m",
            "\u001b[0;31mKeyboardInterrupt\u001b[0m                         Traceback (most recent call last)",
            "\u001b[0;32m/usr/local/lib/python3.7/dist-packages/ipykernel/kernelbase.py\u001b[0m in \u001b[0;36m_input_request\u001b[0;34m(self, prompt, ident, parent, password)\u001b[0m\n\u001b[1;32m    728\u001b[0m             \u001b[0;32mtry\u001b[0m\u001b[0;34m:\u001b[0m\u001b[0;34m\u001b[0m\u001b[0;34m\u001b[0m\u001b[0m\n\u001b[0;32m--> 729\u001b[0;31m                 \u001b[0mident\u001b[0m\u001b[0;34m,\u001b[0m \u001b[0mreply\u001b[0m \u001b[0;34m=\u001b[0m \u001b[0mself\u001b[0m\u001b[0;34m.\u001b[0m\u001b[0msession\u001b[0m\u001b[0;34m.\u001b[0m\u001b[0mrecv\u001b[0m\u001b[0;34m(\u001b[0m\u001b[0mself\u001b[0m\u001b[0;34m.\u001b[0m\u001b[0mstdin_socket\u001b[0m\u001b[0;34m,\u001b[0m \u001b[0;36m0\u001b[0m\u001b[0;34m)\u001b[0m\u001b[0;34m\u001b[0m\u001b[0;34m\u001b[0m\u001b[0m\n\u001b[0m\u001b[1;32m    730\u001b[0m             \u001b[0;32mexcept\u001b[0m \u001b[0mException\u001b[0m\u001b[0;34m:\u001b[0m\u001b[0;34m\u001b[0m\u001b[0;34m\u001b[0m\u001b[0m\n",
            "\u001b[0;32m/usr/local/lib/python3.7/dist-packages/jupyter_client/session.py\u001b[0m in \u001b[0;36mrecv\u001b[0;34m(self, socket, mode, content, copy)\u001b[0m\n\u001b[1;32m    802\u001b[0m         \u001b[0;32mtry\u001b[0m\u001b[0;34m:\u001b[0m\u001b[0;34m\u001b[0m\u001b[0;34m\u001b[0m\u001b[0m\n\u001b[0;32m--> 803\u001b[0;31m             \u001b[0mmsg_list\u001b[0m \u001b[0;34m=\u001b[0m \u001b[0msocket\u001b[0m\u001b[0;34m.\u001b[0m\u001b[0mrecv_multipart\u001b[0m\u001b[0;34m(\u001b[0m\u001b[0mmode\u001b[0m\u001b[0;34m,\u001b[0m \u001b[0mcopy\u001b[0m\u001b[0;34m=\u001b[0m\u001b[0mcopy\u001b[0m\u001b[0;34m)\u001b[0m\u001b[0;34m\u001b[0m\u001b[0;34m\u001b[0m\u001b[0m\n\u001b[0m\u001b[1;32m    804\u001b[0m         \u001b[0;32mexcept\u001b[0m \u001b[0mzmq\u001b[0m\u001b[0;34m.\u001b[0m\u001b[0mZMQError\u001b[0m \u001b[0;32mas\u001b[0m \u001b[0me\u001b[0m\u001b[0;34m:\u001b[0m\u001b[0;34m\u001b[0m\u001b[0;34m\u001b[0m\u001b[0m\n",
            "\u001b[0;32m/usr/local/lib/python3.7/dist-packages/zmq/sugar/socket.py\u001b[0m in \u001b[0;36mrecv_multipart\u001b[0;34m(self, flags, copy, track)\u001b[0m\n\u001b[1;32m    624\u001b[0m         \"\"\"\n\u001b[0;32m--> 625\u001b[0;31m         \u001b[0mparts\u001b[0m \u001b[0;34m=\u001b[0m \u001b[0;34m[\u001b[0m\u001b[0mself\u001b[0m\u001b[0;34m.\u001b[0m\u001b[0mrecv\u001b[0m\u001b[0;34m(\u001b[0m\u001b[0mflags\u001b[0m\u001b[0;34m,\u001b[0m \u001b[0mcopy\u001b[0m\u001b[0;34m=\u001b[0m\u001b[0mcopy\u001b[0m\u001b[0;34m,\u001b[0m \u001b[0mtrack\u001b[0m\u001b[0;34m=\u001b[0m\u001b[0mtrack\u001b[0m\u001b[0;34m)\u001b[0m\u001b[0;34m]\u001b[0m\u001b[0;34m\u001b[0m\u001b[0;34m\u001b[0m\u001b[0m\n\u001b[0m\u001b[1;32m    626\u001b[0m         \u001b[0;31m# have first part already, only loop while more to receive\u001b[0m\u001b[0;34m\u001b[0m\u001b[0;34m\u001b[0m\u001b[0;34m\u001b[0m\u001b[0m\n",
            "\u001b[0;32mzmq/backend/cython/socket.pyx\u001b[0m in \u001b[0;36mzmq.backend.cython.socket.Socket.recv\u001b[0;34m()\u001b[0m\n",
            "\u001b[0;32mzmq/backend/cython/socket.pyx\u001b[0m in \u001b[0;36mzmq.backend.cython.socket.Socket.recv\u001b[0;34m()\u001b[0m\n",
            "\u001b[0;32mzmq/backend/cython/socket.pyx\u001b[0m in \u001b[0;36mzmq.backend.cython.socket._recv_copy\u001b[0;34m()\u001b[0m\n",
            "\u001b[0;32m/usr/local/lib/python3.7/dist-packages/zmq/backend/cython/checkrc.pxd\u001b[0m in \u001b[0;36mzmq.backend.cython.checkrc._check_rc\u001b[0;34m()\u001b[0m\n",
            "\u001b[0;31mKeyboardInterrupt\u001b[0m: ",
            "\nDuring handling of the above exception, another exception occurred:\n",
            "\u001b[0;31mKeyboardInterrupt\u001b[0m                         Traceback (most recent call last)",
            "\u001b[0;32m<ipython-input-11-adcbd05c95ae>\u001b[0m in \u001b[0;36m<module>\u001b[0;34m()\u001b[0m\n\u001b[1;32m     37\u001b[0m     \u001b[0;32mfor\u001b[0m \u001b[0mi\u001b[0m \u001b[0;32min\u001b[0m \u001b[0mlabel_num_pairs\u001b[0m\u001b[0;34m:\u001b[0m\u001b[0;34m\u001b[0m\u001b[0;34m\u001b[0m\u001b[0m\n\u001b[1;32m     38\u001b[0m         \u001b[0mf\u001b[0m\u001b[0;34m.\u001b[0m\u001b[0mwrite\u001b[0m\u001b[0;34m(\u001b[0m\u001b[0;34mf'{i}\\n'\u001b[0m\u001b[0;34m)\u001b[0m\u001b[0;34m\u001b[0m\u001b[0;34m\u001b[0m\u001b[0m\n\u001b[0;32m---> 39\u001b[0;31m \u001b[0minput\u001b[0m\u001b[0;34m(\u001b[0m\u001b[0;34m)\u001b[0m\u001b[0;34m\u001b[0m\u001b[0;34m\u001b[0m\u001b[0m\n\u001b[0m\u001b[1;32m     40\u001b[0m \u001b[0mval_loader\u001b[0m \u001b[0;34m=\u001b[0m \u001b[0mget_val_dataset\u001b[0m\u001b[0;34m(\u001b[0m\u001b[0mdata_folder\u001b[0m\u001b[0;34m,\u001b[0m \u001b[0mimage_size\u001b[0m\u001b[0;34m,\u001b[0m \u001b[0mbatch_size\u001b[0m\u001b[0;34m,\u001b[0m \u001b[0mn_workers\u001b[0m\u001b[0;34m,\u001b[0m \u001b[0mlabel_num_pairs\u001b[0m\u001b[0;34m)\u001b[0m\u001b[0;34m\u001b[0m\u001b[0;34m\u001b[0m\u001b[0m\n\u001b[1;32m     41\u001b[0m train(\n",
            "\u001b[0;32m/usr/local/lib/python3.7/dist-packages/ipykernel/kernelbase.py\u001b[0m in \u001b[0;36mraw_input\u001b[0;34m(self, prompt)\u001b[0m\n\u001b[1;32m    702\u001b[0m             \u001b[0mself\u001b[0m\u001b[0;34m.\u001b[0m\u001b[0m_parent_ident\u001b[0m\u001b[0;34m,\u001b[0m\u001b[0;34m\u001b[0m\u001b[0;34m\u001b[0m\u001b[0m\n\u001b[1;32m    703\u001b[0m             \u001b[0mself\u001b[0m\u001b[0;34m.\u001b[0m\u001b[0m_parent_header\u001b[0m\u001b[0;34m,\u001b[0m\u001b[0;34m\u001b[0m\u001b[0;34m\u001b[0m\u001b[0m\n\u001b[0;32m--> 704\u001b[0;31m             \u001b[0mpassword\u001b[0m\u001b[0;34m=\u001b[0m\u001b[0;32mFalse\u001b[0m\u001b[0;34m,\u001b[0m\u001b[0;34m\u001b[0m\u001b[0;34m\u001b[0m\u001b[0m\n\u001b[0m\u001b[1;32m    705\u001b[0m         )\n\u001b[1;32m    706\u001b[0m \u001b[0;34m\u001b[0m\u001b[0m\n",
            "\u001b[0;32m/usr/local/lib/python3.7/dist-packages/ipykernel/kernelbase.py\u001b[0m in \u001b[0;36m_input_request\u001b[0;34m(self, prompt, ident, parent, password)\u001b[0m\n\u001b[1;32m    732\u001b[0m             \u001b[0;32mexcept\u001b[0m \u001b[0mKeyboardInterrupt\u001b[0m\u001b[0;34m:\u001b[0m\u001b[0;34m\u001b[0m\u001b[0;34m\u001b[0m\u001b[0m\n\u001b[1;32m    733\u001b[0m                 \u001b[0;31m# re-raise KeyboardInterrupt, to truncate traceback\u001b[0m\u001b[0;34m\u001b[0m\u001b[0;34m\u001b[0m\u001b[0;34m\u001b[0m\u001b[0m\n\u001b[0;32m--> 734\u001b[0;31m                 \u001b[0;32mraise\u001b[0m \u001b[0mKeyboardInterrupt\u001b[0m\u001b[0;34m\u001b[0m\u001b[0;34m\u001b[0m\u001b[0m\n\u001b[0m\u001b[1;32m    735\u001b[0m             \u001b[0;32melse\u001b[0m\u001b[0;34m:\u001b[0m\u001b[0;34m\u001b[0m\u001b[0;34m\u001b[0m\u001b[0m\n\u001b[1;32m    736\u001b[0m                 \u001b[0;32mbreak\u001b[0m\u001b[0;34m\u001b[0m\u001b[0;34m\u001b[0m\u001b[0m\n",
            "\u001b[0;31mKeyboardInterrupt\u001b[0m: "
          ]
        }
      ]
    },
    {
      "cell_type": "code",
      "source": [
        "with open('text.txt', 'w') as f:\n",
        "    for label_num_pair in label_num_pairs:\n",
        "        f.write(f'{label_num_pair}\\n')"
      ],
      "metadata": {
        "id": "ISw3Vm201euZ"
      },
      "execution_count": null,
      "outputs": []
    },
    {
      "cell_type": "markdown",
      "source": [
        "# Test"
      ],
      "metadata": {
        "id": "D6ikZybpGd4t"
      }
    },
    {
      "cell_type": "code",
      "source": [
        "import argparse\n",
        "import csv\n",
        "import glob\n",
        "import numpy as np\n",
        "import os\n",
        "import random\n",
        "import torch\n",
        "import torch.nn as nn\n",
        "from PIL import Image\n",
        "from torch.utils import data\n",
        "from torch.utils.data import DataLoader\n",
        "from torchvision.transforms import transforms\n",
        "from torchvision import models\n",
        "\n",
        "def fix_random_seeds(seed):\n",
        "    random.seed(seed)\n",
        "    os.environ['PYTHONHASHSEED'] = str(seed)\n",
        "    np.random.seed(seed)\n",
        "    torch.manual_seed(seed)\n",
        "    torch.cuda.manual_seed(seed)\n",
        "    torch.cuda.manual_seed_all(seed)\n",
        "    torch.backends.cudnn.benchmark = False\n",
        "    torch.backends.cudnn.deterministic = True\n",
        "    torch.backends.cudnn.enabled = False\n",
        "\n",
        "class Office_Imagenet(data.Dataset):\n",
        "    def __init__(self, fns, labels, transforms):\n",
        "        super().__init__()\n",
        "        self.fns = fns\n",
        "        self.labels = labels\n",
        "        self.transforms = transforms\n",
        "\n",
        "    def __len__(self):\n",
        "        return len(self.fns)\n",
        "    \n",
        "    def __getitem__(self, index):\n",
        "        fn = self.fns[index]\n",
        "        img = Image.open(fn).convert('RGB')\n",
        "        return self.transforms(img), self.labels[index]\n",
        "\n",
        "def get_test_dataset(\n",
        "    test_csv_path,\n",
        "    test_img_repo,\n",
        "    image_size,\n",
        "    batch_size,\n",
        "    n_workers,\n",
        "    label_num_pairs\n",
        "):\n",
        "    test_transforms = transforms.Compose([\n",
        "        transforms.Resize((image_size, image_size)),\n",
        "        transforms.ToTensor(),\n",
        "        transforms.Normalize(mean=[0.485, 0.456, 0.406], std=[0.229, 0.224, 0.225])\n",
        "    ])\n",
        "    \n",
        "    fns = []\n",
        "    labels = []\n",
        "    with open(test_csv_path, 'r') as f:\n",
        "        for line in f.readlines()[1:]:\n",
        "            _, fn, label = line[:-1].split(',')\n",
        "            fns.append(os.path.join(test_img_repo, fn))\n",
        "            labels.append(label_num_pairs.index(label))\n",
        "\n",
        "    test_set = Office_Imagenet(fns, labels, test_transforms)\n",
        "    test_loader = DataLoader(test_set, batch_size=batch_size, shuffle=False, num_workers=n_workers)\n",
        "    return fns, test_loader\n",
        "\n",
        "class Classifier(nn.Module):\n",
        "    def __init__(self, classes, train_backbone=True):\n",
        "        super().__init__()\n",
        "\n",
        "        self.resnet = models.resnet50(pretrained=False)\n",
        "        self.resnet.fc = nn.Linear(2048, classes)\n",
        "\n",
        "    def forward(self, x):\n",
        "        x = self.resnet(x)\n",
        "        return x\n",
        "\n",
        "def test(\n",
        "    device,\n",
        "    classifier,\n",
        "    test_loader,\n",
        "    output_csv,\n",
        "    label_pairs,\n",
        "    fns\n",
        "):\n",
        "    ckpt = torch.load('./hw4_2.pt', map_location='cpu')\n",
        "    classifier.load_state_dict(ckpt['classifier'])\n",
        "    classifier.eval()\n",
        "    preds = []\n",
        "    \n",
        "    with torch.no_grad():\n",
        "        for batch in tqdm(test_loader):\n",
        "        # for i, batch in enumerate(test_loader):\n",
        "            imgs, _ = batch\n",
        "            imgs = imgs.to(device)\n",
        "\n",
        "            logits = classifier(imgs)\n",
        "            preds.extend(logits.argmax(dim=-1))\n",
        "    firstrow = [['id', 'filename', 'label']]\n",
        "    rows = firstrow + [[i, fns[i].split('/')[-1], label_pairs[pred]] for i, pred in enumerate(preds)]\n",
        "    with open(output_csv, 'w') as f:\n",
        "        mywriter = csv.writer(f, delimiter=',')\n",
        "        mywriter.writerows(rows)\n",
        "    # print(preds)\n",
        "    \n",
        "\n",
        "# if __name__ == \"__main__\":\n",
        "    \n",
        "    # ap = argparse.ArgumentParser()\n",
        "    # ap.add_argument('--test_csv_path', required=True)\n",
        "    # ap.add_argument('--test_img_repo', required=True)\n",
        "    # ap.add_argument('--output_csv', required=True)\n",
        "    # args = ap.parse_args()\n",
        "    test_csv_path = './hw4_data/office/val.csv'\n",
        "    test_img_repo = './hw4_data/office/val'\n",
        "    output_csv = './output.csv'\n",
        "\n",
        "    device = \"cuda\" if torch.cuda.is_available() else \"cpu\"\n",
        "    seed = 0\n",
        "    fix_random_seeds(seed)\n",
        "\n",
        "    batch_size = 32\n",
        "    n_workers = 0\n",
        "    n_epochs = 10\n",
        "    image_size = 128\n",
        "    classes = 65\n",
        "\n",
        "    classifier = Classifier(classes, True).to(device)\n",
        "\n",
        "    data_folder = './hw4_data/office'\n",
        "    label_pairs = []\n",
        "    with open('label_pairs.txt', 'r', newline='') as f:\n",
        "        for line in f.readlines():\n",
        "            label_pairs.append(line[:-1])\n",
        "\n",
        "    fns, test_loader = get_test_dataset(\n",
        "        test_csv_path,\n",
        "        test_img_repo,\n",
        "        image_size,\n",
        "        batch_size,\n",
        "        n_workers,\n",
        "        label_num_pairs\n",
        "    )\n",
        "    test(\n",
        "        device,\n",
        "        classifier,\n",
        "        test_loader,\n",
        "        output_csv,\n",
        "        label_pairs,\n",
        "        fns\n",
        "    )"
      ],
      "metadata": {
        "colab": {
          "base_uri": "https://localhost:8080/",
          "height": 49,
          "referenced_widgets": [
            "d52bb6a41aba47888209722d565dc5ae",
            "3190ff1227584f4180fbefddde2f928e",
            "e791f0b3c29f46dc8b7df6447d3a89ae",
            "cacb8459f1aa433b9b28eb5157c3af9b",
            "ab14f89a6e1c4876bb74dcbf7dd3d20a",
            "ef2ceb1205324c88b46ff6dd4a622bbc",
            "0b1b16bf2d7f492b8e4623c73a2f073e",
            "b691bb0e15a249e4a3daa4da92decfe8",
            "edf78efdbfe549f4bab08212906630a2",
            "badf22c2e99d49cfa10c459a8aa2ccbf",
            "16a8dd8510a24658abfc16f8b8d1c2c6"
          ]
        },
        "id": "N2B1fAXOGdm3",
        "outputId": "c1f5fdb9-8912-49c6-b739-6edb687f230b"
      },
      "execution_count": null,
      "outputs": [
        {
          "output_type": "display_data",
          "data": {
            "application/vnd.jupyter.widget-view+json": {
              "model_id": "d52bb6a41aba47888209722d565dc5ae",
              "version_minor": 0,
              "version_major": 2
            },
            "text/plain": [
              "  0%|          | 0/13 [00:00<?, ?it/s]"
            ]
          },
          "metadata": {}
        }
      ]
    },
    {
      "cell_type": "code",
      "source": [
        "label_pairs = []\n",
        "with open('label_pairs.txt', 'r', newline='') as f:\n",
        "    for line in f.readlines():\n",
        "        label_pairs.append(line[:-1])\n",
        "# print(len(label_pairs))"
      ],
      "metadata": {
        "colab": {
          "base_uri": "https://localhost:8080/"
        },
        "id": "N6oEhU8dHAVk",
        "outputId": "e086f9e1-3a68-4274-a2a9-5ab10c6ed4a4"
      },
      "execution_count": null,
      "outputs": [
        {
          "output_type": "stream",
          "name": "stdout",
          "text": [
            "['Couch', 'Helmet', 'Refrigerator', 'Alarm_Clock', 'Bike', 'Bottle', 'Calculator', 'Chair', 'Mouse', 'Monitor', 'Table', 'Pen', 'Pencil', 'Flowers', 'Shelf', 'Laptop', 'Speaker', 'Sneakers', 'Printer', 'Calendar', 'Bed', 'Knives', 'Backpack', 'Paper_Clip', 'Candles', 'Soda', 'Clipboards', 'Fork', 'Exit_Sign', 'Lamp_Shade', 'Trash_Can', 'Computer', 'Scissors', 'Webcam', 'Sink', 'Postit_Notes', 'Glasses', 'File_Cabinet', 'Radio', 'Bucket', 'Drill', 'Desk_Lamp', 'Toys', 'Keyboard', 'Notebook', 'Ruler', 'ToothBrush', 'Mop', 'Flipflops', 'Oven', 'TV', 'Eraser', 'Telephone', 'Kettle', 'Curtains', 'Mug', 'Fan', 'Push_Pin', 'Batteries', 'Pan', 'Marker', 'Spoon', 'Screwdriver', 'Hammer', 'Folder']\n"
          ]
        }
      ]
    },
    {
      "cell_type": "code",
      "source": [
        "import csv\n",
        "test_a = []\n",
        "with open('./output.csv', 'r', newline='') as f:\n",
        "    rows = csv.reader(f)\n",
        "    for i, row in enumerate(rows):\n",
        "        if i != 0:\n",
        "            test_a.append(row[2])\n",
        "# print(test_a)\n",
        "# input()\n",
        "test_b = []\n",
        "with open('./hw4_data/office/val.csv', 'r', newline='') as f:\n",
        "    rows = csv.reader(f)\n",
        "    for i, row in enumerate(rows):\n",
        "        if i != 0:\n",
        "            test_b.append(row[2])\n",
        "\n",
        "correct = 0\n",
        "total = 0\n",
        "for i in range(len(test_a)):\n",
        "    total += 1\n",
        "    if test_a[i] == test_b[i]:\n",
        "        correct += 1\n",
        "print(f'acc = {correct/total:.5f}')"
      ],
      "metadata": {
        "colab": {
          "base_uri": "https://localhost:8080/"
        },
        "id": "NXtp7Ar_Lzws",
        "outputId": "2751f79d-09fd-4455-a18e-a709c765384a"
      },
      "execution_count": null,
      "outputs": [
        {
          "output_type": "stream",
          "name": "stdout",
          "text": [
            "acc = 0.37438\n"
          ]
        }
      ]
    },
    {
      "cell_type": "code",
      "source": [
        "!wget https://www.dropbox.com/s/1pbrd597o5haj8k/hw4_2_train_C.pt?dl=0 -O hw4_2.pt"
      ],
      "metadata": {
        "colab": {
          "base_uri": "https://localhost:8080/"
        },
        "id": "E7pG7U0kMmYr",
        "outputId": "27dd8dd2-e848-4796-b58d-992a6c6baa2e"
      },
      "execution_count": null,
      "outputs": [
        {
          "output_type": "stream",
          "name": "stdout",
          "text": [
            "--2022-01-02 05:10:50--  https://www.dropbox.com/s/1pbrd597o5haj8k/hw4_2_train_C.pt?dl=0\n",
            "Resolving www.dropbox.com (www.dropbox.com)... 162.125.3.18, 2620:100:601b:18::a27d:812\n",
            "Connecting to www.dropbox.com (www.dropbox.com)|162.125.3.18|:443... connected.\n",
            "HTTP request sent, awaiting response... 301 Moved Permanently\n",
            "Location: /s/raw/1pbrd597o5haj8k/hw4_2_train_C.pt [following]\n",
            "--2022-01-02 05:10:50--  https://www.dropbox.com/s/raw/1pbrd597o5haj8k/hw4_2_train_C.pt\n",
            "Reusing existing connection to www.dropbox.com:443.\n",
            "HTTP request sent, awaiting response... 302 Found\n",
            "Location: https://ucbb4e94bb811f5fc4b1cb67cadc.dl.dropboxusercontent.com/cd/0/inline/Bc-lvNrnLKmVZysWMPrx5GK7z-PiQSwmiSQonde9XFx0pEOMfwQlwOybpdgMzDewETbftQI6WNP025jB6Tnwwplw4NuTYIfoOaF82q9geSnOaYTk4DSXSsTrqgk_EUc9mwi__GLpiGAya3Hy6mxdO36K/file# [following]\n",
            "--2022-01-02 05:10:51--  https://ucbb4e94bb811f5fc4b1cb67cadc.dl.dropboxusercontent.com/cd/0/inline/Bc-lvNrnLKmVZysWMPrx5GK7z-PiQSwmiSQonde9XFx0pEOMfwQlwOybpdgMzDewETbftQI6WNP025jB6Tnwwplw4NuTYIfoOaF82q9geSnOaYTk4DSXSsTrqgk_EUc9mwi__GLpiGAya3Hy6mxdO36K/file\n",
            "Resolving ucbb4e94bb811f5fc4b1cb67cadc.dl.dropboxusercontent.com (ucbb4e94bb811f5fc4b1cb67cadc.dl.dropboxusercontent.com)... 162.125.3.15, 2620:100:6033:15::a27d:530f\n",
            "Connecting to ucbb4e94bb811f5fc4b1cb67cadc.dl.dropboxusercontent.com (ucbb4e94bb811f5fc4b1cb67cadc.dl.dropboxusercontent.com)|162.125.3.15|:443... connected.\n",
            "HTTP request sent, awaiting response... 200 OK\n",
            "Length: 284110973 (271M) [text/plain]\n",
            "Saving to: ‘hw4_2.pt’\n",
            "\n",
            "hw4_2.pt            100%[===================>] 270.95M  82.0MB/s    in 3.3s    \n",
            "\n",
            "2022-01-02 05:10:55 (82.0 MB/s) - ‘hw4_2.pt’ saved [284110973/284110973]\n",
            "\n"
          ]
        }
      ]
    },
    {
      "cell_type": "code",
      "source": [
        "!bash hw4_p2.sh './hw4_data/office/val.csv' './hw4_data/office/val' './output.csv'"
      ],
      "metadata": {
        "colab": {
          "base_uri": "https://localhost:8080/"
        },
        "id": "sx0ttF_ONOFo",
        "outputId": "33789557-e461-4907-8ed5-b258c0d4a08b"
      },
      "execution_count": null,
      "outputs": [
        {
          "output_type": "stream",
          "name": "stdout",
          "text": [
            "['Couch', 'Helmet', 'Refrigerator', 'Alarm_Clock', 'Bike', 'Bottle', 'Calculator', 'Chair', 'Mouse', 'Monitor', 'Table', 'Pen', 'Pencil', 'Flowers', 'Shelf', 'Laptop', 'Speaker', 'Sneakers', 'Printer', 'Calendar', 'Bed', 'Knives', 'Backpack', 'Paper_Clip', 'Candles', 'Soda', 'Clipboards', 'Fork', 'Exit_Sign', 'Lamp_Shade', 'Trash_Can', 'Computer', 'Scissors', 'Webcam', 'Sink', 'Postit_Notes', 'Glasses', 'File_Cabinet', 'Radio', 'Bucket', 'Drill', 'Desk_Lamp', 'Toys', 'Keyboard', 'Notebook', 'Ruler', 'ToothBrush', 'Mop', 'Flipflops', 'Oven', 'TV', 'Eraser', 'Telephone', 'Kettle', 'Curtains', 'Mug', 'Fan', 'Push_Pin', 'Batteries', 'Pan', 'Marker', 'Spoon', 'Screwdriver', 'Hammer', 'Folder']\n",
            "['./hw4_data/office/val/Fork00005.jpg', './hw4_data/office/val/Fork00002.jpg', './hw4_data/office/val/Fork00032.jpg', './hw4_data/office/val/Radio00039.jpg', './hw4_data/office/val/Radio00020.jpg', './hw4_data/office/val/Radio00025.jpg', './hw4_data/office/val/Radio00005.jpg', './hw4_data/office/val/Radio00002.jpg', './hw4_data/office/val/Radio00032.jpg', './hw4_data/office/val/Glasses00039.jpg', './hw4_data/office/val/Glasses00020.jpg', './hw4_data/office/val/Glasses00025.jpg', './hw4_data/office/val/Glasses00005.jpg', './hw4_data/office/val/Glasses00002.jpg', './hw4_data/office/val/Glasses00032.jpg', './hw4_data/office/val/Webcam00025.jpg', './hw4_data/office/val/Webcam00005.jpg', './hw4_data/office/val/Webcam00002.jpg', './hw4_data/office/val/Webcam00032.jpg', './hw4_data/office/val/Speaker00073.jpg', './hw4_data/office/val/Speaker00039.jpg', './hw4_data/office/val/Speaker00020.jpg', './hw4_data/office/val/Speaker00025.jpg', './hw4_data/office/val/Speaker00005.jpg', './hw4_data/office/val/Speaker00002.jpg', './hw4_data/office/val/Speaker00079.jpg', './hw4_data/office/val/Speaker00032.jpg', './hw4_data/office/val/Keyboard00073.jpg', './hw4_data/office/val/Keyboard00039.jpg', './hw4_data/office/val/Keyboard00020.jpg', './hw4_data/office/val/Keyboard00025.jpg', './hw4_data/office/val/Keyboard00005.jpg', './hw4_data/office/val/Keyboard00002.jpg', './hw4_data/office/val/Keyboard00032.jpg', './hw4_data/office/val/Sneakers00039.jpg', './hw4_data/office/val/Sneakers00020.jpg', './hw4_data/office/val/Sneakers00025.jpg', './hw4_data/office/val/Sneakers00087.jpg', './hw4_data/office/val/Sneakers00005.jpg', './hw4_data/office/val/Sneakers00002.jpg', './hw4_data/office/val/Sneakers00079.jpg', './hw4_data/office/val/Sneakers00032.jpg', './hw4_data/office/val/Bucket00073.jpg', './hw4_data/office/val/Bucket00039.jpg', './hw4_data/office/val/Bucket00020.jpg', './hw4_data/office/val/Bucket00025.jpg', './hw4_data/office/val/Bucket00005.jpg', './hw4_data/office/val/Bucket00002.jpg', './hw4_data/office/val/Bucket00079.jpg', './hw4_data/office/val/Bucket00032.jpg', './hw4_data/office/val/Alarm_Clock00073.jpg', './hw4_data/office/val/Alarm_Clock00039.jpg', './hw4_data/office/val/Alarm_Clock00020.jpg', './hw4_data/office/val/Alarm_Clock00025.jpg', './hw4_data/office/val/Alarm_Clock00005.jpg', './hw4_data/office/val/Alarm_Clock00002.jpg', './hw4_data/office/val/Alarm_Clock00079.jpg', './hw4_data/office/val/Alarm_Clock00032.jpg', './hw4_data/office/val/Exit_Sign00073.jpg', './hw4_data/office/val/Exit_Sign00039.jpg', './hw4_data/office/val/Exit_Sign00020.jpg', './hw4_data/office/val/Exit_Sign00025.jpg', './hw4_data/office/val/Exit_Sign00005.jpg', './hw4_data/office/val/Exit_Sign00002.jpg', './hw4_data/office/val/Exit_Sign00079.jpg', './hw4_data/office/val/Exit_Sign00032.jpg', './hw4_data/office/val/Calculator00073.jpg', './hw4_data/office/val/Calculator00039.jpg', './hw4_data/office/val/Calculator00020.jpg', './hw4_data/office/val/Calculator00025.jpg', './hw4_data/office/val/Calculator00005.jpg', './hw4_data/office/val/Calculator00002.jpg', './hw4_data/office/val/Calculator00032.jpg', './hw4_data/office/val/Folder00020.jpg', './hw4_data/office/val/Folder00025.jpg', './hw4_data/office/val/Folder00005.jpg', './hw4_data/office/val/Folder00002.jpg', './hw4_data/office/val/Folder00032.jpg', './hw4_data/office/val/Lamp_Shade00073.jpg', './hw4_data/office/val/Lamp_Shade00039.jpg', './hw4_data/office/val/Lamp_Shade00020.jpg', './hw4_data/office/val/Lamp_Shade00025.jpg', './hw4_data/office/val/Lamp_Shade00005.jpg', './hw4_data/office/val/Lamp_Shade00002.jpg', './hw4_data/office/val/Lamp_Shade00032.jpg', './hw4_data/office/val/Refrigerator00073.jpg', './hw4_data/office/val/Refrigerator00039.jpg', './hw4_data/office/val/Refrigerator00020.jpg', './hw4_data/office/val/Refrigerator00025.jpg', './hw4_data/office/val/Refrigerator00005.jpg', './hw4_data/office/val/Refrigerator00002.jpg', './hw4_data/office/val/Refrigerator00032.jpg', './hw4_data/office/val/Pen00039.jpg', './hw4_data/office/val/Pen00020.jpg', './hw4_data/office/val/Pen00025.jpg', './hw4_data/office/val/Pen00005.jpg', './hw4_data/office/val/Pen00002.jpg', './hw4_data/office/val/Pen00032.jpg', './hw4_data/office/val/Soda00039.jpg', './hw4_data/office/val/Soda00020.jpg', './hw4_data/office/val/Soda00025.jpg', './hw4_data/office/val/Soda00005.jpg', './hw4_data/office/val/Soda00002.jpg', './hw4_data/office/val/Soda00032.jpg', './hw4_data/office/val/TV00020.jpg', './hw4_data/office/val/TV00025.jpg', './hw4_data/office/val/TV00005.jpg', './hw4_data/office/val/TV00002.jpg', './hw4_data/office/val/TV00032.jpg', './hw4_data/office/val/Candles00039.jpg', './hw4_data/office/val/Candles00098.jpg', './hw4_data/office/val/Candles00020.jpg', './hw4_data/office/val/Candles00025.jpg', './hw4_data/office/val/Candles00087.jpg', './hw4_data/office/val/Candles00005.jpg', './hw4_data/office/val/Candles00002.jpg', './hw4_data/office/val/Candles00079.jpg', './hw4_data/office/val/Candles00032.jpg', './hw4_data/office/val/Chair00073.jpg', './hw4_data/office/val/Chair00039.jpg', './hw4_data/office/val/Chair00020.jpg', './hw4_data/office/val/Chair00025.jpg', './hw4_data/office/val/Chair00087.jpg', './hw4_data/office/val/Chair00005.jpg', './hw4_data/office/val/Chair00002.jpg', './hw4_data/office/val/Chair00079.jpg', './hw4_data/office/val/Chair00032.jpg', './hw4_data/office/val/Computer00039.jpg', './hw4_data/office/val/Computer00020.jpg', './hw4_data/office/val/Computer00025.jpg', './hw4_data/office/val/Computer00005.jpg', './hw4_data/office/val/Computer00002.jpg', './hw4_data/office/val/Computer00032.jpg', './hw4_data/office/val/Kettle00049.jpg', './hw4_data/office/val/Kettle00039.jpg', './hw4_data/office/val/Kettle00020.jpg', './hw4_data/office/val/Kettle00025.jpg', './hw4_data/office/val/Kettle00005.jpg', './hw4_data/office/val/Kettle00002.jpg', './hw4_data/office/val/Kettle00032.jpg', './hw4_data/office/val/Monitor00049.jpg', './hw4_data/office/val/Monitor00039.jpg', './hw4_data/office/val/Monitor00020.jpg', './hw4_data/office/val/Monitor00025.jpg', './hw4_data/office/val/Monitor00005.jpg', './hw4_data/office/val/Monitor00002.jpg', './hw4_data/office/val/Monitor00032.jpg', './hw4_data/office/val/Marker00005.jpg', './hw4_data/office/val/Marker00002.jpg', './hw4_data/office/val/Scissors00073.jpg', './hw4_data/office/val/Scissors00039.jpg', './hw4_data/office/val/Scissors00020.jpg', './hw4_data/office/val/Scissors00025.jpg', './hw4_data/office/val/Scissors00005.jpg', './hw4_data/office/val/Scissors00002.jpg', './hw4_data/office/val/Scissors00032.jpg', './hw4_data/office/val/Couch00073.jpg', './hw4_data/office/val/Couch00039.jpg', './hw4_data/office/val/Couch00020.jpg', './hw4_data/office/val/Couch00025.jpg', './hw4_data/office/val/Couch00005.jpg', './hw4_data/office/val/Couch00002.jpg', './hw4_data/office/val/Couch00032.jpg', './hw4_data/office/val/Trash_Can00073.jpg', './hw4_data/office/val/Trash_Can00039.jpg', './hw4_data/office/val/Trash_Can00020.jpg', './hw4_data/office/val/Trash_Can00025.jpg', './hw4_data/office/val/Trash_Can00005.jpg', './hw4_data/office/val/Trash_Can00002.jpg', './hw4_data/office/val/Trash_Can00079.jpg', './hw4_data/office/val/Trash_Can00032.jpg', './hw4_data/office/val/Ruler00025.jpg', './hw4_data/office/val/Ruler00005.jpg', './hw4_data/office/val/Ruler00002.jpg', './hw4_data/office/val/Ruler00032.jpg', './hw4_data/office/val/Telephone00073.jpg', './hw4_data/office/val/Telephone00039.jpg', './hw4_data/office/val/Telephone00020.jpg', './hw4_data/office/val/Telephone00025.jpg', './hw4_data/office/val/Telephone00005.jpg', './hw4_data/office/val/Telephone00002.jpg', './hw4_data/office/val/Telephone00079.jpg', './hw4_data/office/val/Telephone00032.jpg', './hw4_data/office/val/Hammer00020.jpg', './hw4_data/office/val/Hammer00025.jpg', './hw4_data/office/val/Hammer00005.jpg', './hw4_data/office/val/Hammer00002.jpg', './hw4_data/office/val/Hammer00032.jpg', './hw4_data/office/val/Helmet00039.jpg', './hw4_data/office/val/Helmet00020.jpg', './hw4_data/office/val/Helmet00025.jpg', './hw4_data/office/val/Helmet00005.jpg', './hw4_data/office/val/Helmet00002.jpg', './hw4_data/office/val/Helmet00032.jpg', './hw4_data/office/val/ToothBrush00073.jpg', './hw4_data/office/val/ToothBrush00039.jpg', './hw4_data/office/val/ToothBrush00020.jpg', './hw4_data/office/val/ToothBrush00025.jpg', './hw4_data/office/val/ToothBrush00005.jpg', './hw4_data/office/val/ToothBrush00002.jpg', './hw4_data/office/val/ToothBrush00079.jpg', './hw4_data/office/val/ToothBrush00032.jpg', './hw4_data/office/val/Fan00039.jpg', './hw4_data/office/val/Fan00020.jpg', './hw4_data/office/val/Fan00025.jpg', './hw4_data/office/val/Fan00005.jpg', './hw4_data/office/val/Fan00002.jpg', './hw4_data/office/val/Fan00032.jpg', './hw4_data/office/val/Spoon00020.jpg', './hw4_data/office/val/Spoon00025.jpg', './hw4_data/office/val/Spoon00005.jpg', './hw4_data/office/val/Spoon00002.jpg', './hw4_data/office/val/Spoon00032.jpg', './hw4_data/office/val/Calendar00039.jpg', './hw4_data/office/val/Calendar00020.jpg', './hw4_data/office/val/Calendar00025.jpg', './hw4_data/office/val/Calendar00005.jpg', './hw4_data/office/val/Calendar00002.jpg', './hw4_data/office/val/Calendar00032.jpg', './hw4_data/office/val/Oven00039.jpg', './hw4_data/office/val/Oven00020.jpg', './hw4_data/office/val/Oven00025.jpg', './hw4_data/office/val/Oven00005.jpg', './hw4_data/office/val/Oven00002.jpg', './hw4_data/office/val/Oven00032.jpg', './hw4_data/office/val/Eraser00025.jpg', './hw4_data/office/val/Eraser00005.jpg', './hw4_data/office/val/Eraser00002.jpg', './hw4_data/office/val/Eraser00032.jpg', './hw4_data/office/val/Postit_Notes00039.jpg', './hw4_data/office/val/Postit_Notes00020.jpg', './hw4_data/office/val/Postit_Notes00025.jpg', './hw4_data/office/val/Postit_Notes00005.jpg', './hw4_data/office/val/Postit_Notes00002.jpg', './hw4_data/office/val/Postit_Notes00032.jpg', './hw4_data/office/val/Mop00025.jpg', './hw4_data/office/val/Mop00005.jpg', './hw4_data/office/val/Mop00002.jpg', './hw4_data/office/val/Mop00032.jpg', './hw4_data/office/val/Table00020.jpg', './hw4_data/office/val/Table00025.jpg', './hw4_data/office/val/Table00005.jpg', './hw4_data/office/val/Table00002.jpg', './hw4_data/office/val/Table00032.jpg', './hw4_data/office/val/Laptop00039.jpg', './hw4_data/office/val/Laptop00020.jpg', './hw4_data/office/val/Laptop00025.jpg', './hw4_data/office/val/Laptop00005.jpg', './hw4_data/office/val/Laptop00002.jpg', './hw4_data/office/val/Laptop00032.jpg', './hw4_data/office/val/Pan00025.jpg', './hw4_data/office/val/Pan00005.jpg', './hw4_data/office/val/Pan00002.jpg', './hw4_data/office/val/Bike00039.jpg', './hw4_data/office/val/Bike00098.jpg', './hw4_data/office/val/Bike00020.jpg', './hw4_data/office/val/Bike00025.jpg', './hw4_data/office/val/Bike00087.jpg', './hw4_data/office/val/Bike00005.jpg', './hw4_data/office/val/Bike00002.jpg', './hw4_data/office/val/Bike00079.jpg', './hw4_data/office/val/Bike00032.jpg', './hw4_data/office/val/Clipboards00039.jpg', './hw4_data/office/val/Clipboards00020.jpg', './hw4_data/office/val/Clipboards00025.jpg', './hw4_data/office/val/Clipboards00005.jpg', './hw4_data/office/val/Clipboards00002.jpg', './hw4_data/office/val/Clipboards00032.jpg', './hw4_data/office/val/Shelf00039.jpg', './hw4_data/office/val/Shelf00020.jpg', './hw4_data/office/val/Shelf00025.jpg', './hw4_data/office/val/Shelf00005.jpg', './hw4_data/office/val/Shelf00002.jpg', './hw4_data/office/val/Shelf00032.jpg', './hw4_data/office/val/Paper_Clip00039.jpg', './hw4_data/office/val/Paper_Clip00020.jpg', './hw4_data/office/val/Paper_Clip00025.jpg', './hw4_data/office/val/Paper_Clip00005.jpg', './hw4_data/office/val/Paper_Clip00002.jpg', './hw4_data/office/val/Paper_Clip00032.jpg', './hw4_data/office/val/File_Cabinet00020.jpg', './hw4_data/office/val/File_Cabinet00025.jpg', './hw4_data/office/val/File_Cabinet00005.jpg', './hw4_data/office/val/File_Cabinet00002.jpg', './hw4_data/office/val/File_Cabinet00032.jpg', './hw4_data/office/val/Push_Pin00020.jpg', './hw4_data/office/val/Push_Pin00025.jpg', './hw4_data/office/val/Push_Pin00005.jpg', './hw4_data/office/val/Push_Pin00002.jpg', './hw4_data/office/val/Push_Pin00032.jpg', './hw4_data/office/val/Mug00020.jpg', './hw4_data/office/val/Mug00025.jpg', './hw4_data/office/val/Mug00005.jpg', './hw4_data/office/val/Mug00002.jpg', './hw4_data/office/val/Mug00032.jpg', './hw4_data/office/val/Bottle00073.jpg', './hw4_data/office/val/Bottle00039.jpg', './hw4_data/office/val/Bottle00020.jpg', './hw4_data/office/val/Bottle00025.jpg', './hw4_data/office/val/Bottle00005.jpg', './hw4_data/office/val/Bottle00002.jpg', './hw4_data/office/val/Bottle00032.jpg', './hw4_data/office/val/Knives00073.jpg', './hw4_data/office/val/Knives00039.jpg', './hw4_data/office/val/Knives00020.jpg', './hw4_data/office/val/Knives00025.jpg', './hw4_data/office/val/Knives00005.jpg', './hw4_data/office/val/Knives00002.jpg', './hw4_data/office/val/Knives00079.jpg', './hw4_data/office/val/Knives00032.jpg', './hw4_data/office/val/Curtains00073.jpg', './hw4_data/office/val/Curtains00039.jpg', './hw4_data/office/val/Curtains00020.jpg', './hw4_data/office/val/Curtains00025.jpg', './hw4_data/office/val/Curtains00005.jpg', './hw4_data/office/val/Curtains00002.jpg', './hw4_data/office/val/Curtains00032.jpg', './hw4_data/office/val/Printer00020.jpg', './hw4_data/office/val/Printer00025.jpg', './hw4_data/office/val/Printer00005.jpg', './hw4_data/office/val/Printer00002.jpg', './hw4_data/office/val/Printer00032.jpg', './hw4_data/office/val/Drill00020.jpg', './hw4_data/office/val/Drill00025.jpg', './hw4_data/office/val/Drill00005.jpg', './hw4_data/office/val/Drill00002.jpg', './hw4_data/office/val/Drill00032.jpg', './hw4_data/office/val/Toys00039.jpg', './hw4_data/office/val/Toys00020.jpg', './hw4_data/office/val/Toys00025.jpg', './hw4_data/office/val/Toys00005.jpg', './hw4_data/office/val/Toys00002.jpg', './hw4_data/office/val/Toys00032.jpg', './hw4_data/office/val/Mouse00039.jpg', './hw4_data/office/val/Mouse00020.jpg', './hw4_data/office/val/Mouse00025.jpg', './hw4_data/office/val/Mouse00005.jpg', './hw4_data/office/val/Mouse00002.jpg', './hw4_data/office/val/Mouse00032.jpg', './hw4_data/office/val/Flowers00073.jpg', './hw4_data/office/val/Flowers00039.jpg', './hw4_data/office/val/Flowers00020.jpg', './hw4_data/office/val/Flowers00025.jpg', './hw4_data/office/val/Flowers00005.jpg', './hw4_data/office/val/Flowers00002.jpg', './hw4_data/office/val/Flowers00032.jpg', './hw4_data/office/val/Desk_Lamp00039.jpg', './hw4_data/office/val/Desk_Lamp00020.jpg', './hw4_data/office/val/Desk_Lamp00025.jpg', './hw4_data/office/val/Desk_Lamp00005.jpg', './hw4_data/office/val/Desk_Lamp00002.jpg', './hw4_data/office/val/Desk_Lamp00032.jpg', './hw4_data/office/val/Pencil00020.jpg', './hw4_data/office/val/Pencil00025.jpg', './hw4_data/office/val/Pencil00005.jpg', './hw4_data/office/val/Pencil00002.jpg', './hw4_data/office/val/Pencil00032.jpg', './hw4_data/office/val/Sink00073.jpg', './hw4_data/office/val/Sink00039.jpg', './hw4_data/office/val/Sink00020.jpg', './hw4_data/office/val/Sink00025.jpg', './hw4_data/office/val/Sink00005.jpg', './hw4_data/office/val/Sink00002.jpg', './hw4_data/office/val/Sink00032.jpg', './hw4_data/office/val/Batteries00039.jpg', './hw4_data/office/val/Batteries00020.jpg', './hw4_data/office/val/Batteries00025.jpg', './hw4_data/office/val/Batteries00005.jpg', './hw4_data/office/val/Batteries00002.jpg', './hw4_data/office/val/Batteries00032.jpg', './hw4_data/office/val/Bed00073.jpg', './hw4_data/office/val/Bed00039.jpg', './hw4_data/office/val/Bed00020.jpg', './hw4_data/office/val/Bed00025.jpg', './hw4_data/office/val/Bed00005.jpg', './hw4_data/office/val/Bed00002.jpg', './hw4_data/office/val/Bed00079.jpg', './hw4_data/office/val/Bed00032.jpg', './hw4_data/office/val/Screwdriver00020.jpg', './hw4_data/office/val/Screwdriver00025.jpg', './hw4_data/office/val/Screwdriver00005.jpg', './hw4_data/office/val/Screwdriver00002.jpg', './hw4_data/office/val/Screwdriver00032.jpg', './hw4_data/office/val/Backpack00039.jpg', './hw4_data/office/val/Backpack00098.jpg', './hw4_data/office/val/Backpack00020.jpg', './hw4_data/office/val/Backpack00025.jpg', './hw4_data/office/val/Backpack00087.jpg', './hw4_data/office/val/Backpack00005.jpg', './hw4_data/office/val/Backpack00002.jpg', './hw4_data/office/val/Backpack00079.jpg', './hw4_data/office/val/Backpack00032.jpg', './hw4_data/office/val/Flipflops00073.jpg', './hw4_data/office/val/Flipflops00039.jpg', './hw4_data/office/val/Flipflops00020.jpg', './hw4_data/office/val/Flipflops00025.jpg', './hw4_data/office/val/Flipflops00005.jpg', './hw4_data/office/val/Flipflops00002.jpg', './hw4_data/office/val/Flipflops00079.jpg', './hw4_data/office/val/Flipflops00032.jpg', './hw4_data/office/val/Notebook00039.jpg', './hw4_data/office/val/Notebook00020.jpg', './hw4_data/office/val/Notebook00025.jpg', './hw4_data/office/val/Notebook00005.jpg', './hw4_data/office/val/Notebook00002.jpg', './hw4_data/office/val/Notebook00032.jpg']\n"
          ]
        }
      ]
    }
  ]
}